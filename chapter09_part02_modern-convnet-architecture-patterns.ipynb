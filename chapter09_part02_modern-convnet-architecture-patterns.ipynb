{
  "cells": [
    {
      "cell_type": "markdown",
      "metadata": {
        "id": "nv1TPTpOrpMm"
      },
      "source": [
        "This is a companion notebook for the book [Deep Learning with Python, Second Edition](https://www.manning.com/books/deep-learning-with-python-second-edition?a_aid=keras&a_bid=76564dff). For readability, it only contains runnable code blocks and section titles, and omits everything else in the book: text paragraphs, figures, and pseudocode.\n",
        "\n",
        "**If you want to be able to follow what's going on, I recommend reading the notebook side by side with your copy of the book.**\n",
        "\n",
        "This notebook was generated for TensorFlow 2.6."
      ]
    },
    {
      "cell_type": "markdown",
      "metadata": {
        "id": "623K9z6irpMn"
      },
      "source": [
        "## Modern convnet architecture patterns"
      ]
    },
    {
      "cell_type": "markdown",
      "metadata": {
        "id": "Ba7VQYlbrpMn"
      },
      "source": [
        "### Modularity, hierarchy, and reuse"
      ]
    },
    {
      "cell_type": "markdown",
      "metadata": {
        "id": "k3dVTI3frpMn"
      },
      "source": [
        "### Residual connections"
      ]
    },
    {
      "cell_type": "markdown",
      "metadata": {
        "id": "yRZ7NsoArpMn"
      },
      "source": [
        "**Residual block where the number of filters changes**"
      ]
    },
    {
      "cell_type": "code",
      "execution_count": 1,
      "metadata": {
        "id": "RlE4gfwSrpMn"
      },
      "outputs": [],
      "source": [
        "from tensorflow import keras\n",
        "from tensorflow.keras import layers\n",
        "\n",
        "inputs = keras.Input(shape=(32, 32, 3))\n",
        "x = layers.Conv2D(32, 3, activation=\"relu\")(inputs)\n",
        "residual = x\n",
        "x = layers.Conv2D(64, 3, activation=\"relu\", padding=\"same\")(x)\n",
        "residual = layers.Conv2D(64, 1)(residual)\n",
        "x = layers.add([x, residual])"
      ]
    },
    {
      "cell_type": "markdown",
      "metadata": {
        "id": "lYOvV1HfrpMn"
      },
      "source": [
        "**Case where target block includes a max pooling layer**"
      ]
    },
    {
      "cell_type": "code",
      "execution_count": 2,
      "metadata": {
        "id": "EW5gMK6orpMn"
      },
      "outputs": [],
      "source": [
        "inputs = keras.Input(shape=(32, 32, 3))\n",
        "x = layers.Conv2D(32, 3, activation=\"relu\")(inputs)\n",
        "residual = x\n",
        "x = layers.Conv2D(64, 3, activation=\"relu\", padding=\"same\")(x)\n",
        "x = layers.MaxPooling2D(2, padding=\"same\")(x)\n",
        "residual = layers.Conv2D(64, 1, strides=2)(residual)\n",
        "x = layers.add([x, residual])"
      ]
    },
    {
      "cell_type": "code",
      "execution_count": 3,
      "metadata": {
        "id": "1xQnH5mcrpMn",
        "outputId": "6c7326fb-2621-4246-9967-53ffa4a946b2",
        "colab": {
          "base_uri": "https://localhost:8080/"
        }
      },
      "outputs": [
        {
          "output_type": "stream",
          "name": "stdout",
          "text": [
            "Model: \"model\"\n",
            "__________________________________________________________________________________________________\n",
            " Layer (type)                Output Shape                 Param #   Connected to                  \n",
            "==================================================================================================\n",
            " input_3 (InputLayer)        [(None, 32, 32, 3)]          0         []                            \n",
            "                                                                                                  \n",
            " rescaling (Rescaling)       (None, 32, 32, 3)            0         ['input_3[0][0]']             \n",
            "                                                                                                  \n",
            " conv2d_6 (Conv2D)           (None, 32, 32, 32)           896       ['rescaling[0][0]']           \n",
            "                                                                                                  \n",
            " conv2d_7 (Conv2D)           (None, 32, 32, 32)           9248      ['conv2d_6[0][0]']            \n",
            "                                                                                                  \n",
            " max_pooling2d_1 (MaxPoolin  (None, 16, 16, 32)           0         ['conv2d_7[0][0]']            \n",
            " g2D)                                                                                             \n",
            "                                                                                                  \n",
            " conv2d_8 (Conv2D)           (None, 16, 16, 32)           128       ['rescaling[0][0]']           \n",
            "                                                                                                  \n",
            " add_2 (Add)                 (None, 16, 16, 32)           0         ['max_pooling2d_1[0][0]',     \n",
            "                                                                     'conv2d_8[0][0]']            \n",
            "                                                                                                  \n",
            " conv2d_9 (Conv2D)           (None, 16, 16, 64)           18496     ['add_2[0][0]']               \n",
            "                                                                                                  \n",
            " conv2d_10 (Conv2D)          (None, 16, 16, 64)           36928     ['conv2d_9[0][0]']            \n",
            "                                                                                                  \n",
            " max_pooling2d_2 (MaxPoolin  (None, 8, 8, 64)             0         ['conv2d_10[0][0]']           \n",
            " g2D)                                                                                             \n",
            "                                                                                                  \n",
            " conv2d_11 (Conv2D)          (None, 8, 8, 64)             2112      ['add_2[0][0]']               \n",
            "                                                                                                  \n",
            " add_3 (Add)                 (None, 8, 8, 64)             0         ['max_pooling2d_2[0][0]',     \n",
            "                                                                     'conv2d_11[0][0]']           \n",
            "                                                                                                  \n",
            " conv2d_12 (Conv2D)          (None, 8, 8, 128)            73856     ['add_3[0][0]']               \n",
            "                                                                                                  \n",
            " conv2d_13 (Conv2D)          (None, 8, 8, 128)            147584    ['conv2d_12[0][0]']           \n",
            "                                                                                                  \n",
            " conv2d_14 (Conv2D)          (None, 8, 8, 128)            8320      ['add_3[0][0]']               \n",
            "                                                                                                  \n",
            " add_4 (Add)                 (None, 8, 8, 128)            0         ['conv2d_13[0][0]',           \n",
            "                                                                     'conv2d_14[0][0]']           \n",
            "                                                                                                  \n",
            " global_average_pooling2d (  (None, 128)                  0         ['add_4[0][0]']               \n",
            " GlobalAveragePooling2D)                                                                          \n",
            "                                                                                                  \n",
            " dense (Dense)               (None, 1)                    129       ['global_average_pooling2d[0][\n",
            "                                                                    0]']                          \n",
            "                                                                                                  \n",
            "==================================================================================================\n",
            "Total params: 297697 (1.14 MB)\n",
            "Trainable params: 297697 (1.14 MB)\n",
            "Non-trainable params: 0 (0.00 Byte)\n",
            "__________________________________________________________________________________________________\n"
          ]
        }
      ],
      "source": [
        "inputs = keras.Input(shape=(32, 32, 3))\n",
        "x = layers.Rescaling(1./255)(inputs)\n",
        "\n",
        "def residual_block(x, filters, pooling=False):\n",
        "    residual = x\n",
        "    x = layers.Conv2D(filters, 3, activation=\"relu\", padding=\"same\")(x)\n",
        "    x = layers.Conv2D(filters, 3, activation=\"relu\", padding=\"same\")(x)\n",
        "    if pooling:\n",
        "        x = layers.MaxPooling2D(2, padding=\"same\")(x)\n",
        "        residual = layers.Conv2D(filters, 1, strides=2)(residual)\n",
        "    elif filters != residual.shape[-1]:\n",
        "        residual = layers.Conv2D(filters, 1)(residual)\n",
        "    x = layers.add([x, residual])\n",
        "    return x\n",
        "\n",
        "x = residual_block(x, filters=32, pooling=True)\n",
        "x = residual_block(x, filters=64, pooling=True)\n",
        "x = residual_block(x, filters=128, pooling=False)\n",
        "\n",
        "x = layers.GlobalAveragePooling2D()(x)\n",
        "outputs = layers.Dense(1, activation=\"sigmoid\")(x)\n",
        "model = keras.Model(inputs=inputs, outputs=outputs)\n",
        "model.summary()"
      ]
    },
    {
      "cell_type": "markdown",
      "metadata": {
        "id": "ykzuVHF7rpMn"
      },
      "source": [
        "### Batch normalization"
      ]
    },
    {
      "cell_type": "markdown",
      "metadata": {
        "id": "NNk_ZFLBrpMn"
      },
      "source": [
        "### Depthwise separable convolutions"
      ]
    },
    {
      "cell_type": "markdown",
      "metadata": {
        "id": "-lZhVgOVrpMn"
      },
      "source": [
        "### Putting it together: A mini Xception-like model"
      ]
    },
    {
      "cell_type": "code",
      "execution_count": null,
      "metadata": {
        "id": "w7wIN-HVrpMn"
      },
      "outputs": [],
      "source": [
        "from google.colab import files\n",
        "files.upload()"
      ]
    },
    {
      "cell_type": "code",
      "source": [
        "import gdown\n",
        "\n",
        "gdown.download(id='18uC7WTuEXKJDDxbj-Jq6EjzpFrgE7IAd', output='dogs-vs-cats.zip')\n",
        "\n"
      ],
      "metadata": {
        "id": "ZfiiHivXr0y7",
        "outputId": "70000374-e6e8-42de-cd02-83a3fa1a8d93",
        "colab": {
          "base_uri": "https://localhost:8080/",
          "height": 145
        }
      },
      "execution_count": 4,
      "outputs": [
        {
          "output_type": "stream",
          "name": "stderr",
          "text": [
            "Downloading...\n",
            "From (original): https://drive.google.com/uc?id=18uC7WTuEXKJDDxbj-Jq6EjzpFrgE7IAd\n",
            "From (redirected): https://drive.google.com/uc?id=18uC7WTuEXKJDDxbj-Jq6EjzpFrgE7IAd&confirm=t&uuid=ffb0cd2f-4bc7-476b-b27d-b2f332de5f9e\n",
            "To: /content/dogs-vs-cats.zip\n",
            "100%|██████████| 852M/852M [00:13<00:00, 62.4MB/s]\n"
          ]
        },
        {
          "output_type": "execute_result",
          "data": {
            "text/plain": [
              "'dogs-vs-cats.zip'"
            ],
            "application/vnd.google.colaboratory.intrinsic+json": {
              "type": "string"
            }
          },
          "metadata": {},
          "execution_count": 4
        }
      ]
    },
    {
      "cell_type": "code",
      "source": [
        "!unzip -qq dogs-vs-cats.zip\n",
        "\n",
        "!unzip -qq train.zip"
      ],
      "metadata": {
        "id": "C3eoKPTmr7At"
      },
      "execution_count": 5,
      "outputs": []
    },
    {
      "cell_type": "code",
      "execution_count": 6,
      "metadata": {
        "id": "1zb1NpAgrpMn",
        "outputId": "e056d7d2-1304-440d-a00a-83a83f2083a3",
        "colab": {
          "base_uri": "https://localhost:8080/"
        }
      },
      "outputs": [
        {
          "output_type": "stream",
          "name": "stdout",
          "text": [
            "cp: cannot stat 'kaggle.json': No such file or directory\n",
            "chmod: cannot access '/root/.kaggle/kaggle.json': No such file or directory\n",
            "Traceback (most recent call last):\n",
            "  File \"/usr/local/bin/kaggle\", line 5, in <module>\n",
            "    from kaggle.cli import main\n",
            "  File \"/usr/local/lib/python3.10/dist-packages/kaggle/__init__.py\", line 7, in <module>\n",
            "    api.authenticate()\n",
            "  File \"/usr/local/lib/python3.10/dist-packages/kaggle/api/kaggle_api_extended.py\", line 398, in authenticate\n",
            "    raise IOError('Could not find {}. Make sure it\\'s located in'\n",
            "OSError: Could not find kaggle.json. Make sure it's located in /root/.kaggle. Or use the environment method.\n",
            "replace train/cat.0.jpg? [y]es, [n]o, [A]ll, [N]one, [r]ename: "
          ]
        }
      ],
      "source": [
        "!mkdir ~/.kaggle\n",
        "!cp kaggle.json ~/.kaggle/\n",
        "!chmod 600 ~/.kaggle/kaggle.json\n",
        "!kaggle competitions download -c dogs-vs-cats\n",
        "!unzip -qq train.zip"
      ]
    },
    {
      "cell_type": "code",
      "execution_count": 7,
      "metadata": {
        "id": "BBZuQD3LrpMn",
        "outputId": "2d053792-7a51-44ae-d39e-0b92114ba00e",
        "colab": {
          "base_uri": "https://localhost:8080/"
        }
      },
      "outputs": [
        {
          "output_type": "stream",
          "name": "stdout",
          "text": [
            "Found 2000 files belonging to 2 classes.\n",
            "Found 1000 files belonging to 2 classes.\n",
            "Found 2000 files belonging to 2 classes.\n"
          ]
        }
      ],
      "source": [
        "import os, shutil, pathlib\n",
        "from tensorflow.keras.utils import image_dataset_from_directory\n",
        "\n",
        "original_dir = pathlib.Path(\"train\")\n",
        "new_base_dir = pathlib.Path(\"cats_vs_dogs_small\")\n",
        "\n",
        "def make_subset(subset_name, start_index, end_index):\n",
        "    for category in (\"cat\", \"dog\"):\n",
        "        dir = new_base_dir / subset_name / category\n",
        "        os.makedirs(dir)\n",
        "        fnames = [f\"{category}.{i}.jpg\" for i in range(start_index, end_index)]\n",
        "        for fname in fnames:\n",
        "            shutil.copyfile(src=original_dir / fname,\n",
        "                            dst=dir / fname)\n",
        "\n",
        "make_subset(\"train\", start_index=0, end_index=1000)\n",
        "make_subset(\"validation\", start_index=1000, end_index=1500)\n",
        "make_subset(\"test\", start_index=1500, end_index=2500)\n",
        "\n",
        "train_dataset = image_dataset_from_directory(\n",
        "    new_base_dir / \"train\",\n",
        "    image_size=(180, 180),\n",
        "    batch_size=32)\n",
        "validation_dataset = image_dataset_from_directory(\n",
        "    new_base_dir / \"validation\",\n",
        "    image_size=(180, 180),\n",
        "    batch_size=32)\n",
        "test_dataset = image_dataset_from_directory(\n",
        "    new_base_dir / \"test\",\n",
        "    image_size=(180, 180),\n",
        "    batch_size=32)"
      ]
    },
    {
      "cell_type": "code",
      "execution_count": 8,
      "metadata": {
        "id": "41Ojv_fkrpMn"
      },
      "outputs": [],
      "source": [
        "data_augmentation = keras.Sequential(\n",
        "    [\n",
        "        layers.RandomFlip(\"horizontal\"),\n",
        "        layers.RandomRotation(0.1),\n",
        "        layers.RandomZoom(0.2),\n",
        "    ]\n",
        ")"
      ]
    },
    {
      "cell_type": "code",
      "execution_count": 9,
      "metadata": {
        "id": "qkYKmjUfrpMo"
      },
      "outputs": [],
      "source": [
        "inputs = keras.Input(shape=(180, 180, 3))\n",
        "x = data_augmentation(inputs)\n",
        "\n",
        "x = layers.Rescaling(1./255)(x)\n",
        "x = layers.Conv2D(filters=32, kernel_size=5, use_bias=False)(x)\n",
        "\n",
        "for size in [32, 64, 128, 256, 512]:\n",
        "    residual = x\n",
        "\n",
        "    x = layers.BatchNormalization()(x)\n",
        "    x = layers.Activation(\"relu\")(x)\n",
        "    x = layers.SeparableConv2D(size, 3, padding=\"same\", use_bias=False)(x)\n",
        "\n",
        "    x = layers.BatchNormalization()(x)\n",
        "    x = layers.Activation(\"relu\")(x)\n",
        "    x = layers.SeparableConv2D(size, 3, padding=\"same\", use_bias=False)(x)\n",
        "\n",
        "    x = layers.MaxPooling2D(3, strides=2, padding=\"same\")(x)\n",
        "\n",
        "    residual = layers.Conv2D(\n",
        "        size, 1, strides=2, padding=\"same\", use_bias=False)(residual)\n",
        "    x = layers.add([x, residual])\n",
        "\n",
        "x = layers.GlobalAveragePooling2D()(x)\n",
        "x = layers.Dropout(0.5)(x)\n",
        "outputs = layers.Dense(1, activation=\"sigmoid\")(x)\n",
        "model = keras.Model(inputs=inputs, outputs=outputs)"
      ]
    },
    {
      "cell_type": "code",
      "execution_count": 10,
      "metadata": {
        "id": "7gY-Cy-lrpMo",
        "outputId": "8afa25ca-e519-498c-8a1b-90a553447784",
        "colab": {
          "base_uri": "https://localhost:8080/"
        }
      },
      "outputs": [
        {
          "output_type": "stream",
          "name": "stdout",
          "text": [
            "Epoch 1/100\n",
            "63/63 [==============================] - 26s 192ms/step - loss: 0.7079 - accuracy: 0.5565 - val_loss: 0.6933 - val_accuracy: 0.4980\n",
            "Epoch 2/100\n",
            "63/63 [==============================] - 10s 157ms/step - loss: 0.6699 - accuracy: 0.5810 - val_loss: 0.6945 - val_accuracy: 0.5000\n",
            "Epoch 3/100\n",
            "63/63 [==============================] - 9s 141ms/step - loss: 0.6503 - accuracy: 0.6180 - val_loss: 0.6944 - val_accuracy: 0.5000\n",
            "Epoch 4/100\n",
            "63/63 [==============================] - 10s 161ms/step - loss: 0.6425 - accuracy: 0.6290 - val_loss: 0.7100 - val_accuracy: 0.5000\n",
            "Epoch 5/100\n",
            "63/63 [==============================] - 11s 165ms/step - loss: 0.6315 - accuracy: 0.6475 - val_loss: 0.7686 - val_accuracy: 0.5000\n",
            "Epoch 6/100\n",
            "63/63 [==============================] - 10s 151ms/step - loss: 0.6155 - accuracy: 0.6580 - val_loss: 0.7367 - val_accuracy: 0.5000\n",
            "Epoch 7/100\n",
            "63/63 [==============================] - 10s 152ms/step - loss: 0.6048 - accuracy: 0.6740 - val_loss: 0.6899 - val_accuracy: 0.5420\n",
            "Epoch 8/100\n",
            "63/63 [==============================] - 10s 151ms/step - loss: 0.5759 - accuracy: 0.7050 - val_loss: 0.7425 - val_accuracy: 0.5440\n",
            "Epoch 9/100\n",
            "63/63 [==============================] - 10s 160ms/step - loss: 0.5672 - accuracy: 0.7240 - val_loss: 1.6540 - val_accuracy: 0.5110\n",
            "Epoch 10/100\n",
            "63/63 [==============================] - 10s 159ms/step - loss: 0.5596 - accuracy: 0.7270 - val_loss: 0.6279 - val_accuracy: 0.6720\n",
            "Epoch 11/100\n",
            "63/63 [==============================] - 11s 164ms/step - loss: 0.5230 - accuracy: 0.7380 - val_loss: 0.6864 - val_accuracy: 0.6410\n",
            "Epoch 12/100\n",
            "63/63 [==============================] - 11s 163ms/step - loss: 0.5177 - accuracy: 0.7470 - val_loss: 0.6142 - val_accuracy: 0.6740\n",
            "Epoch 13/100\n",
            "63/63 [==============================] - 9s 144ms/step - loss: 0.5186 - accuracy: 0.7420 - val_loss: 0.8117 - val_accuracy: 0.5780\n",
            "Epoch 14/100\n",
            "63/63 [==============================] - 10s 154ms/step - loss: 0.4862 - accuracy: 0.7615 - val_loss: 1.0932 - val_accuracy: 0.6080\n",
            "Epoch 15/100\n",
            "63/63 [==============================] - 10s 158ms/step - loss: 0.4817 - accuracy: 0.7685 - val_loss: 1.0928 - val_accuracy: 0.5400\n",
            "Epoch 16/100\n",
            "63/63 [==============================] - 10s 152ms/step - loss: 0.4689 - accuracy: 0.7885 - val_loss: 1.8551 - val_accuracy: 0.5460\n",
            "Epoch 17/100\n",
            "63/63 [==============================] - 10s 161ms/step - loss: 0.4429 - accuracy: 0.7945 - val_loss: 0.7012 - val_accuracy: 0.7310\n",
            "Epoch 18/100\n",
            "63/63 [==============================] - 10s 156ms/step - loss: 0.4497 - accuracy: 0.8050 - val_loss: 0.7108 - val_accuracy: 0.6780\n",
            "Epoch 19/100\n",
            "63/63 [==============================] - 10s 163ms/step - loss: 0.4332 - accuracy: 0.8090 - val_loss: 0.6167 - val_accuracy: 0.7300\n",
            "Epoch 20/100\n",
            "63/63 [==============================] - 11s 172ms/step - loss: 0.4163 - accuracy: 0.8100 - val_loss: 0.6103 - val_accuracy: 0.7070\n",
            "Epoch 21/100\n",
            "63/63 [==============================] - 11s 170ms/step - loss: 0.3991 - accuracy: 0.8220 - val_loss: 0.7261 - val_accuracy: 0.6520\n",
            "Epoch 22/100\n",
            "63/63 [==============================] - 10s 152ms/step - loss: 0.4118 - accuracy: 0.8025 - val_loss: 0.5160 - val_accuracy: 0.7450\n",
            "Epoch 23/100\n",
            "63/63 [==============================] - 10s 153ms/step - loss: 0.3988 - accuracy: 0.8170 - val_loss: 0.7564 - val_accuracy: 0.7340\n",
            "Epoch 24/100\n",
            "63/63 [==============================] - 10s 150ms/step - loss: 0.3739 - accuracy: 0.8395 - val_loss: 0.5984 - val_accuracy: 0.7350\n",
            "Epoch 25/100\n",
            "63/63 [==============================] - 11s 169ms/step - loss: 0.3488 - accuracy: 0.8470 - val_loss: 0.7171 - val_accuracy: 0.7770\n",
            "Epoch 26/100\n",
            "63/63 [==============================] - 10s 151ms/step - loss: 0.3704 - accuracy: 0.8350 - val_loss: 0.5407 - val_accuracy: 0.7570\n",
            "Epoch 27/100\n",
            "63/63 [==============================] - 10s 161ms/step - loss: 0.3610 - accuracy: 0.8350 - val_loss: 1.2032 - val_accuracy: 0.5910\n",
            "Epoch 28/100\n",
            "63/63 [==============================] - 10s 152ms/step - loss: 0.3600 - accuracy: 0.8335 - val_loss: 0.8419 - val_accuracy: 0.6950\n",
            "Epoch 29/100\n",
            "63/63 [==============================] - 9s 143ms/step - loss: 0.3487 - accuracy: 0.8455 - val_loss: 0.6752 - val_accuracy: 0.6920\n",
            "Epoch 30/100\n",
            "63/63 [==============================] - 10s 154ms/step - loss: 0.3220 - accuracy: 0.8595 - val_loss: 0.7809 - val_accuracy: 0.6900\n",
            "Epoch 31/100\n",
            "63/63 [==============================] - 10s 159ms/step - loss: 0.3157 - accuracy: 0.8695 - val_loss: 0.4691 - val_accuracy: 0.8100\n",
            "Epoch 32/100\n",
            "63/63 [==============================] - 10s 148ms/step - loss: 0.3331 - accuracy: 0.8580 - val_loss: 0.4501 - val_accuracy: 0.8000\n",
            "Epoch 33/100\n",
            "63/63 [==============================] - 10s 163ms/step - loss: 0.3126 - accuracy: 0.8560 - val_loss: 0.4326 - val_accuracy: 0.8320\n",
            "Epoch 34/100\n",
            "63/63 [==============================] - 10s 144ms/step - loss: 0.2965 - accuracy: 0.8750 - val_loss: 2.0301 - val_accuracy: 0.5900\n",
            "Epoch 35/100\n",
            "63/63 [==============================] - 10s 163ms/step - loss: 0.2830 - accuracy: 0.8850 - val_loss: 2.0417 - val_accuracy: 0.5970\n",
            "Epoch 36/100\n",
            "63/63 [==============================] - 10s 150ms/step - loss: 0.2852 - accuracy: 0.8755 - val_loss: 0.9559 - val_accuracy: 0.6990\n",
            "Epoch 37/100\n",
            "63/63 [==============================] - 10s 155ms/step - loss: 0.2681 - accuracy: 0.8895 - val_loss: 0.9937 - val_accuracy: 0.6410\n",
            "Epoch 38/100\n",
            "63/63 [==============================] - 10s 150ms/step - loss: 0.2952 - accuracy: 0.8755 - val_loss: 0.4493 - val_accuracy: 0.8050\n",
            "Epoch 39/100\n",
            "63/63 [==============================] - 10s 163ms/step - loss: 0.2734 - accuracy: 0.8815 - val_loss: 1.1398 - val_accuracy: 0.6400\n",
            "Epoch 40/100\n",
            "63/63 [==============================] - 10s 146ms/step - loss: 0.2752 - accuracy: 0.8805 - val_loss: 1.2172 - val_accuracy: 0.6980\n",
            "Epoch 41/100\n",
            "63/63 [==============================] - 10s 159ms/step - loss: 0.2828 - accuracy: 0.8775 - val_loss: 0.6679 - val_accuracy: 0.7400\n",
            "Epoch 42/100\n",
            "63/63 [==============================] - 9s 143ms/step - loss: 0.2632 - accuracy: 0.8850 - val_loss: 0.3768 - val_accuracy: 0.8520\n",
            "Epoch 43/100\n",
            "63/63 [==============================] - 10s 152ms/step - loss: 0.2432 - accuracy: 0.8960 - val_loss: 0.6675 - val_accuracy: 0.7560\n",
            "Epoch 44/100\n",
            "63/63 [==============================] - 10s 156ms/step - loss: 0.2400 - accuracy: 0.9030 - val_loss: 0.7156 - val_accuracy: 0.7680\n",
            "Epoch 45/100\n",
            "63/63 [==============================] - 10s 150ms/step - loss: 0.2480 - accuracy: 0.8935 - val_loss: 0.7883 - val_accuracy: 0.7290\n",
            "Epoch 46/100\n",
            "63/63 [==============================] - 10s 161ms/step - loss: 0.2463 - accuracy: 0.9015 - val_loss: 0.3605 - val_accuracy: 0.8550\n",
            "Epoch 47/100\n",
            "63/63 [==============================] - 10s 156ms/step - loss: 0.2162 - accuracy: 0.9105 - val_loss: 0.4808 - val_accuracy: 0.7900\n",
            "Epoch 48/100\n",
            "63/63 [==============================] - 11s 164ms/step - loss: 0.2383 - accuracy: 0.8980 - val_loss: 0.4069 - val_accuracy: 0.8350\n",
            "Epoch 49/100\n",
            "63/63 [==============================] - 11s 172ms/step - loss: 0.2348 - accuracy: 0.9040 - val_loss: 0.5359 - val_accuracy: 0.8170\n",
            "Epoch 50/100\n",
            "63/63 [==============================] - 9s 143ms/step - loss: 0.2091 - accuracy: 0.9150 - val_loss: 0.4358 - val_accuracy: 0.8080\n",
            "Epoch 51/100\n",
            "63/63 [==============================] - 10s 156ms/step - loss: 0.2011 - accuracy: 0.9185 - val_loss: 0.5631 - val_accuracy: 0.7920\n",
            "Epoch 52/100\n",
            "63/63 [==============================] - 11s 166ms/step - loss: 0.2047 - accuracy: 0.9115 - val_loss: 0.4896 - val_accuracy: 0.8030\n",
            "Epoch 53/100\n",
            "63/63 [==============================] - 11s 170ms/step - loss: 0.2120 - accuracy: 0.9115 - val_loss: 0.4534 - val_accuracy: 0.8480\n",
            "Epoch 54/100\n",
            "63/63 [==============================] - 9s 144ms/step - loss: 0.2089 - accuracy: 0.9145 - val_loss: 0.4674 - val_accuracy: 0.8320\n",
            "Epoch 55/100\n",
            "63/63 [==============================] - 10s 154ms/step - loss: 0.1980 - accuracy: 0.9155 - val_loss: 0.6709 - val_accuracy: 0.7680\n",
            "Epoch 56/100\n",
            "63/63 [==============================] - 11s 165ms/step - loss: 0.1908 - accuracy: 0.9225 - val_loss: 0.5909 - val_accuracy: 0.8070\n",
            "Epoch 57/100\n",
            "63/63 [==============================] - 11s 164ms/step - loss: 0.2134 - accuracy: 0.9125 - val_loss: 0.3065 - val_accuracy: 0.8850\n",
            "Epoch 58/100\n",
            "63/63 [==============================] - 9s 144ms/step - loss: 0.1906 - accuracy: 0.9185 - val_loss: 0.4745 - val_accuracy: 0.8430\n",
            "Epoch 59/100\n",
            "63/63 [==============================] - 10s 156ms/step - loss: 0.1746 - accuracy: 0.9225 - val_loss: 0.5060 - val_accuracy: 0.8300\n",
            "Epoch 60/100\n",
            "63/63 [==============================] - 11s 165ms/step - loss: 0.1874 - accuracy: 0.9205 - val_loss: 0.5350 - val_accuracy: 0.7980\n",
            "Epoch 61/100\n",
            "63/63 [==============================] - 10s 149ms/step - loss: 0.1699 - accuracy: 0.9300 - val_loss: 0.5234 - val_accuracy: 0.8350\n",
            "Epoch 62/100\n",
            "63/63 [==============================] - 11s 168ms/step - loss: 0.1780 - accuracy: 0.9315 - val_loss: 0.4194 - val_accuracy: 0.8580\n",
            "Epoch 63/100\n",
            "63/63 [==============================] - 10s 151ms/step - loss: 0.1677 - accuracy: 0.9345 - val_loss: 0.5170 - val_accuracy: 0.8460\n",
            "Epoch 64/100\n",
            "63/63 [==============================] - 11s 164ms/step - loss: 0.1581 - accuracy: 0.9405 - val_loss: 3.7376 - val_accuracy: 0.5520\n",
            "Epoch 65/100\n",
            "63/63 [==============================] - 11s 171ms/step - loss: 0.1792 - accuracy: 0.9285 - val_loss: 0.4094 - val_accuracy: 0.8660\n",
            "Epoch 66/100\n",
            "63/63 [==============================] - 9s 145ms/step - loss: 0.1592 - accuracy: 0.9395 - val_loss: 0.4347 - val_accuracy: 0.8280\n",
            "Epoch 67/100\n",
            "63/63 [==============================] - 10s 154ms/step - loss: 0.1685 - accuracy: 0.9325 - val_loss: 1.0658 - val_accuracy: 0.7410\n",
            "Epoch 68/100\n",
            "63/63 [==============================] - 10s 158ms/step - loss: 0.1606 - accuracy: 0.9390 - val_loss: 0.3546 - val_accuracy: 0.8600\n",
            "Epoch 69/100\n",
            "63/63 [==============================] - 10s 151ms/step - loss: 0.1538 - accuracy: 0.9395 - val_loss: 0.2956 - val_accuracy: 0.8900\n",
            "Epoch 70/100\n",
            "63/63 [==============================] - 10s 163ms/step - loss: 0.1598 - accuracy: 0.9365 - val_loss: 0.4078 - val_accuracy: 0.8660\n",
            "Epoch 71/100\n",
            "63/63 [==============================] - 10s 155ms/step - loss: 0.1496 - accuracy: 0.9410 - val_loss: 0.4790 - val_accuracy: 0.8490\n",
            "Epoch 72/100\n",
            "63/63 [==============================] - 10s 151ms/step - loss: 0.1613 - accuracy: 0.9370 - val_loss: 0.5599 - val_accuracy: 0.8470\n",
            "Epoch 73/100\n",
            "63/63 [==============================] - 11s 168ms/step - loss: 0.1488 - accuracy: 0.9425 - val_loss: 1.3390 - val_accuracy: 0.7500\n",
            "Epoch 74/100\n",
            "63/63 [==============================] - 10s 146ms/step - loss: 0.1559 - accuracy: 0.9380 - val_loss: 1.3144 - val_accuracy: 0.7200\n",
            "Epoch 75/100\n",
            "63/63 [==============================] - 10s 162ms/step - loss: 0.1478 - accuracy: 0.9445 - val_loss: 0.5900 - val_accuracy: 0.8420\n",
            "Epoch 76/100\n",
            "63/63 [==============================] - 9s 144ms/step - loss: 0.1480 - accuracy: 0.9465 - val_loss: 0.3898 - val_accuracy: 0.8720\n",
            "Epoch 77/100\n",
            "63/63 [==============================] - 10s 152ms/step - loss: 0.1151 - accuracy: 0.9575 - val_loss: 0.3772 - val_accuracy: 0.8850\n",
            "Epoch 78/100\n",
            "63/63 [==============================] - 10s 155ms/step - loss: 0.1317 - accuracy: 0.9505 - val_loss: 0.6454 - val_accuracy: 0.7980\n",
            "Epoch 79/100\n",
            "63/63 [==============================] - 10s 150ms/step - loss: 0.1271 - accuracy: 0.9475 - val_loss: 0.4382 - val_accuracy: 0.8610\n",
            "Epoch 80/100\n",
            "63/63 [==============================] - 11s 166ms/step - loss: 0.1256 - accuracy: 0.9505 - val_loss: 0.5227 - val_accuracy: 0.8330\n",
            "Epoch 81/100\n",
            "63/63 [==============================] - 10s 156ms/step - loss: 0.1285 - accuracy: 0.9470 - val_loss: 0.7423 - val_accuracy: 0.8240\n",
            "Epoch 82/100\n",
            "63/63 [==============================] - 11s 165ms/step - loss: 0.1336 - accuracy: 0.9465 - val_loss: 1.0061 - val_accuracy: 0.6850\n",
            "Epoch 83/100\n",
            "63/63 [==============================] - 10s 152ms/step - loss: 0.1392 - accuracy: 0.9470 - val_loss: 0.6796 - val_accuracy: 0.8450\n",
            "Epoch 84/100\n",
            "63/63 [==============================] - 10s 162ms/step - loss: 0.1380 - accuracy: 0.9450 - val_loss: 0.3239 - val_accuracy: 0.8870\n",
            "Epoch 85/100\n",
            "63/63 [==============================] - 10s 156ms/step - loss: 0.1357 - accuracy: 0.9495 - val_loss: 0.3281 - val_accuracy: 0.8850\n",
            "Epoch 86/100\n",
            "63/63 [==============================] - 9s 145ms/step - loss: 0.1208 - accuracy: 0.9495 - val_loss: 0.3356 - val_accuracy: 0.8770\n",
            "Epoch 87/100\n",
            "63/63 [==============================] - 10s 155ms/step - loss: 0.1158 - accuracy: 0.9565 - val_loss: 0.4903 - val_accuracy: 0.8530\n",
            "Epoch 88/100\n",
            "63/63 [==============================] - 11s 165ms/step - loss: 0.1277 - accuracy: 0.9495 - val_loss: 0.8229 - val_accuracy: 0.7840\n",
            "Epoch 89/100\n",
            "63/63 [==============================] - 10s 149ms/step - loss: 0.1176 - accuracy: 0.9495 - val_loss: 0.5609 - val_accuracy: 0.8560\n",
            "Epoch 90/100\n",
            "63/63 [==============================] - 11s 170ms/step - loss: 0.1098 - accuracy: 0.9620 - val_loss: 0.7255 - val_accuracy: 0.8060\n",
            "Epoch 91/100\n",
            "63/63 [==============================] - 10s 153ms/step - loss: 0.1245 - accuracy: 0.9495 - val_loss: 0.4487 - val_accuracy: 0.8690\n",
            "Epoch 92/100\n",
            "63/63 [==============================] - 10s 149ms/step - loss: 0.1212 - accuracy: 0.9545 - val_loss: 1.3978 - val_accuracy: 0.7410\n",
            "Epoch 93/100\n",
            "63/63 [==============================] - 11s 175ms/step - loss: 0.1175 - accuracy: 0.9575 - val_loss: 0.3423 - val_accuracy: 0.8850\n",
            "Epoch 94/100\n",
            "63/63 [==============================] - 11s 168ms/step - loss: 0.1113 - accuracy: 0.9560 - val_loss: 0.7348 - val_accuracy: 0.8360\n",
            "Epoch 95/100\n",
            "63/63 [==============================] - 10s 147ms/step - loss: 0.1139 - accuracy: 0.9550 - val_loss: 0.3966 - val_accuracy: 0.8710\n",
            "Epoch 96/100\n",
            "63/63 [==============================] - 10s 161ms/step - loss: 0.0985 - accuracy: 0.9620 - val_loss: 0.6077 - val_accuracy: 0.8230\n",
            "Epoch 97/100\n",
            "63/63 [==============================] - 10s 150ms/step - loss: 0.1177 - accuracy: 0.9530 - val_loss: 0.6269 - val_accuracy: 0.8270\n",
            "Epoch 98/100\n",
            "63/63 [==============================] - 11s 164ms/step - loss: 0.1065 - accuracy: 0.9620 - val_loss: 1.0596 - val_accuracy: 0.7590\n",
            "Epoch 99/100\n",
            "63/63 [==============================] - 10s 161ms/step - loss: 0.1247 - accuracy: 0.9515 - val_loss: 0.5391 - val_accuracy: 0.8540\n",
            "Epoch 100/100\n",
            "63/63 [==============================] - 11s 166ms/step - loss: 0.1117 - accuracy: 0.9605 - val_loss: 0.5118 - val_accuracy: 0.8240\n"
          ]
        }
      ],
      "source": [
        "model.compile(loss=\"binary_crossentropy\",\n",
        "              optimizer=\"rmsprop\",\n",
        "              metrics=[\"accuracy\"])\n",
        "history = model.fit(\n",
        "    train_dataset,\n",
        "    epochs=100,\n",
        "    validation_data=validation_dataset)"
      ]
    }
  ],
  "metadata": {
    "colab": {
      "name": "chapter09_part02_modern-convnet-architecture-patterns.i",
      "provenance": [],
      "toc_visible": true,
      "gpuType": "T4"
    },
    "kernelspec": {
      "display_name": "Python 3",
      "name": "python3"
    },
    "language_info": {
      "codemirror_mode": {
        "name": "ipython",
        "version": 3
      },
      "file_extension": ".py",
      "mimetype": "text/x-python",
      "name": "python",
      "nbconvert_exporter": "python",
      "pygments_lexer": "ipython3",
      "version": "3.7.0"
    },
    "accelerator": "GPU"
  },
  "nbformat": 4,
  "nbformat_minor": 0
}