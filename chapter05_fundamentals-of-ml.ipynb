{
  "cells": [
    {
      "cell_type": "markdown",
      "metadata": {
        "id": "vznQ0xrwEAMd"
      },
      "source": [
        "This is a companion notebook for the book [Deep Learning with Python, Second Edition](https://www.manning.com/books/deep-learning-with-python-second-edition?a_aid=keras&a_bid=76564dff). For readability, it only contains runnable code blocks and section titles, and omits everything else in the book: text paragraphs, figures, and pseudocode.\n",
        "\n",
        "**If you want to be able to follow what's going on, I recommend reading the notebook side by side with your copy of the book.**\n",
        "\n",
        "This notebook was generated for TensorFlow 2.6."
      ]
    },
    {
      "cell_type": "markdown",
      "metadata": {
        "id": "LBAA8hqiEAMe"
      },
      "source": [
        "# Fundamentals of machine learning"
      ]
    },
    {
      "cell_type": "markdown",
      "metadata": {
        "id": "hgVR71eREAMe"
      },
      "source": [
        "## Generalization: The goal of machine learning"
      ]
    },
    {
      "cell_type": "markdown",
      "metadata": {
        "id": "9R0i2unKEAMe"
      },
      "source": [
        "### Underfitting and overfitting"
      ]
    },
    {
      "cell_type": "markdown",
      "metadata": {
        "id": "XDrY3hEGEAMe"
      },
      "source": [
        "#### Noisy training data"
      ]
    },
    {
      "cell_type": "markdown",
      "metadata": {
        "id": "eEaQB8cIEAMe"
      },
      "source": [
        "#### Ambiguous features"
      ]
    },
    {
      "cell_type": "markdown",
      "metadata": {
        "id": "G-b4yOo5EAMe"
      },
      "source": [
        "#### Rare features and spurious correlations"
      ]
    },
    {
      "cell_type": "markdown",
      "metadata": {
        "id": "r1f65ywlEAMf"
      },
      "source": [
        "**Adding white-noise channels or all-zeros channels to MNIST**"
      ]
    },
    {
      "cell_type": "code",
      "execution_count": 1,
      "metadata": {
        "id": "FNrb0aRQEAMf",
        "outputId": "ba600c3f-86a0-4cc0-bef9-ab68769d0799",
        "colab": {
          "base_uri": "https://localhost:8080/"
        }
      },
      "outputs": [
        {
          "output_type": "stream",
          "name": "stdout",
          "text": [
            "Downloading data from https://storage.googleapis.com/tensorflow/tf-keras-datasets/mnist.npz\n",
            "11490434/11490434 [==============================] - 0s 0us/step\n"
          ]
        }
      ],
      "source": [
        "from tensorflow.keras.datasets import mnist\n",
        "import numpy as np\n",
        "\n",
        "(train_images, train_labels), _ = mnist.load_data()\n",
        "train_images = train_images.reshape((60000, 28 * 28))\n",
        "train_images = train_images.astype(\"float32\") / 255\n",
        "\n",
        "train_images_with_noise_channels = np.concatenate(\n",
        "    [train_images, np.random.random((len(train_images), 784))], axis=1)\n",
        "\n",
        "train_images_with_zeros_channels = np.concatenate(\n",
        "    [train_images, np.zeros((len(train_images), 784))], axis=1)"
      ]
    },
    {
      "cell_type": "markdown",
      "metadata": {
        "id": "bTtUyA54EAMf"
      },
      "source": [
        "**Training the same model on MNIST data with noise channels or all-zero channels**"
      ]
    },
    {
      "cell_type": "code",
      "execution_count": 2,
      "metadata": {
        "id": "7tULm419EAMf",
        "outputId": "b594fcc4-b796-414a-a587-0c4fc84a4490",
        "colab": {
          "base_uri": "https://localhost:8080/"
        }
      },
      "outputs": [
        {
          "output_type": "stream",
          "name": "stdout",
          "text": [
            "Epoch 1/10\n",
            "375/375 [==============================] - 9s 11ms/step - loss: 0.6049 - accuracy: 0.8145 - val_loss: 0.2556 - val_accuracy: 0.9215\n",
            "Epoch 2/10\n",
            "375/375 [==============================] - 2s 6ms/step - loss: 0.2568 - accuracy: 0.9217 - val_loss: 0.1788 - val_accuracy: 0.9455\n",
            "Epoch 3/10\n",
            "375/375 [==============================] - 2s 4ms/step - loss: 0.1680 - accuracy: 0.9476 - val_loss: 0.1641 - val_accuracy: 0.9508\n",
            "Epoch 4/10\n",
            "375/375 [==============================] - 1s 3ms/step - loss: 0.1193 - accuracy: 0.9624 - val_loss: 0.1679 - val_accuracy: 0.9477\n",
            "Epoch 5/10\n",
            "375/375 [==============================] - 1s 3ms/step - loss: 0.0898 - accuracy: 0.9716 - val_loss: 0.1147 - val_accuracy: 0.9659\n",
            "Epoch 6/10\n",
            "375/375 [==============================] - 1s 3ms/step - loss: 0.0656 - accuracy: 0.9793 - val_loss: 0.1314 - val_accuracy: 0.9638\n",
            "Epoch 7/10\n",
            "375/375 [==============================] - 2s 4ms/step - loss: 0.0490 - accuracy: 0.9842 - val_loss: 0.1202 - val_accuracy: 0.9662\n",
            "Epoch 8/10\n",
            "375/375 [==============================] - 1s 4ms/step - loss: 0.0359 - accuracy: 0.9884 - val_loss: 0.1290 - val_accuracy: 0.9654\n",
            "Epoch 9/10\n",
            "375/375 [==============================] - 1s 3ms/step - loss: 0.0273 - accuracy: 0.9914 - val_loss: 0.2850 - val_accuracy: 0.9319\n",
            "Epoch 10/10\n",
            "375/375 [==============================] - 1s 3ms/step - loss: 0.0200 - accuracy: 0.9941 - val_loss: 0.1192 - val_accuracy: 0.9713\n",
            "Epoch 1/10\n",
            "375/375 [==============================] - 2s 4ms/step - loss: 0.2993 - accuracy: 0.9138 - val_loss: 0.1546 - val_accuracy: 0.9549\n",
            "Epoch 2/10\n",
            "375/375 [==============================] - 1s 3ms/step - loss: 0.1222 - accuracy: 0.9638 - val_loss: 0.1161 - val_accuracy: 0.9659\n",
            "Epoch 3/10\n",
            "375/375 [==============================] - 1s 3ms/step - loss: 0.0797 - accuracy: 0.9763 - val_loss: 0.0890 - val_accuracy: 0.9735\n",
            "Epoch 4/10\n",
            "375/375 [==============================] - 1s 3ms/step - loss: 0.0568 - accuracy: 0.9835 - val_loss: 0.0862 - val_accuracy: 0.9747\n",
            "Epoch 5/10\n",
            "375/375 [==============================] - 2s 4ms/step - loss: 0.0432 - accuracy: 0.9873 - val_loss: 0.0767 - val_accuracy: 0.9772\n",
            "Epoch 6/10\n",
            "375/375 [==============================] - 1s 4ms/step - loss: 0.0322 - accuracy: 0.9906 - val_loss: 0.0677 - val_accuracy: 0.9794\n",
            "Epoch 7/10\n",
            "375/375 [==============================] - 1s 3ms/step - loss: 0.0244 - accuracy: 0.9927 - val_loss: 0.0808 - val_accuracy: 0.9768\n",
            "Epoch 8/10\n",
            "375/375 [==============================] - 1s 3ms/step - loss: 0.0181 - accuracy: 0.9952 - val_loss: 0.0765 - val_accuracy: 0.9781\n",
            "Epoch 9/10\n",
            "375/375 [==============================] - 1s 3ms/step - loss: 0.0134 - accuracy: 0.9966 - val_loss: 0.0751 - val_accuracy: 0.9801\n",
            "Epoch 10/10\n",
            "375/375 [==============================] - 1s 3ms/step - loss: 0.0102 - accuracy: 0.9975 - val_loss: 0.0772 - val_accuracy: 0.9793\n"
          ]
        }
      ],
      "source": [
        "from tensorflow import keras\n",
        "from tensorflow.keras import layers\n",
        "\n",
        "def get_model():\n",
        "    model = keras.Sequential([\n",
        "        layers.Dense(512, activation=\"relu\"),\n",
        "        layers.Dense(10, activation=\"softmax\")\n",
        "    ])\n",
        "    model.compile(optimizer=\"rmsprop\",\n",
        "                  loss=\"sparse_categorical_crossentropy\",\n",
        "                  metrics=[\"accuracy\"])\n",
        "    return model\n",
        "\n",
        "model = get_model()\n",
        "history_noise = model.fit(\n",
        "    train_images_with_noise_channels, train_labels,\n",
        "    epochs=10,\n",
        "    batch_size=128,\n",
        "    validation_split=0.2)\n",
        "\n",
        "model = get_model()\n",
        "history_zeros = model.fit(\n",
        "    train_images_with_zeros_channels, train_labels,\n",
        "    epochs=10,\n",
        "    batch_size=128,\n",
        "    validation_split=0.2)"
      ]
    },
    {
      "cell_type": "markdown",
      "metadata": {
        "id": "-aQ92U9SEAMf"
      },
      "source": [
        "**Plotting a validation accuracy comparison**"
      ]
    },
    {
      "cell_type": "code",
      "execution_count": 3,
      "metadata": {
        "id": "U4VekO_pEAMf",
        "outputId": "c492a959-bcfd-42dc-e919-ce5498dc1b49",
        "colab": {
          "base_uri": "https://localhost:8080/",
          "height": 490
        }
      },
      "outputs": [
        {
          "output_type": "execute_result",
          "data": {
            "text/plain": [
              "<matplotlib.legend.Legend at 0x7f2ca7ac7eb0>"
            ]
          },
          "metadata": {},
          "execution_count": 3
        },
        {
          "output_type": "display_data",
          "data": {
            "text/plain": [
              "<Figure size 640x480 with 1 Axes>"
            ],
            "image/png": "[encoded data removed]"
          },
          "metadata": {}
        }
      ],
      "source": [
        "import matplotlib.pyplot as plt\n",
        "val_acc_noise = history_noise.history[\"val_accuracy\"]\n",
        "val_acc_zeros = history_zeros.history[\"val_accuracy\"]\n",
        "epochs = range(1, 11)\n",
        "plt.plot(epochs, val_acc_noise, \"b-\",\n",
        "         label=\"Validation accuracy with noise channels\")\n",
        "plt.plot(epochs, val_acc_zeros, \"b--\",\n",
        "         label=\"Validation accuracy with zeros channels\")\n",
        "plt.title(\"Effect of noise channels on validation accuracy\")\n",
        "plt.xlabel(\"Epochs\")\n",
        "plt.ylabel(\"Accuracy\")\n",
        "plt.legend()"
      ]
    },
    {
      "cell_type": "markdown",
      "metadata": {
        "id": "S3S12GZwEAMf"
      },
      "source": [
        "### The nature of generalization in deep learning"
      ]
    },
    {
      "cell_type": "markdown",
      "metadata": {
        "id": "v8NbyE40EAMf"
      },
      "source": [
        "**Fitting a MNIST model with randomly shuffled labels**"
      ]
    },
    {
      "cell_type": "code",
      "execution_count": 4,
      "metadata": {
        "id": "Xypy1ieEEAMf",
        "outputId": "71159937-97de-4826-f707-ef59167fc043",
        "colab": {
          "base_uri": "https://localhost:8080/"
        }
      },
      "outputs": [
        {
          "output_type": "stream",
          "name": "stdout",
          "text": [
            "Epoch 1/100\n",
            "375/375 [==============================] - 2s 4ms/step - loss: 2.3163 - accuracy: 0.1002 - val_loss: 2.3070 - val_accuracy: 0.1056\n",
            "Epoch 2/100\n",
            "375/375 [==============================] - 1s 3ms/step - loss: 2.2992 - accuracy: 0.1165 - val_loss: 2.3109 - val_accuracy: 0.1010\n",
            "Epoch 3/100\n",
            "375/375 [==============================] - 2s 4ms/step - loss: 2.2923 - accuracy: 0.1247 - val_loss: 2.3176 - val_accuracy: 0.1036\n",
            "Epoch 4/100\n",
            "375/375 [==============================] - 1s 4ms/step - loss: 2.2811 - accuracy: 0.1374 - val_loss: 2.3214 - val_accuracy: 0.0998\n",
            "Epoch 5/100\n",
            "375/375 [==============================] - 1s 3ms/step - loss: 2.2665 - accuracy: 0.1490 - val_loss: 2.3301 - val_accuracy: 0.1056\n",
            "Epoch 6/100\n",
            "375/375 [==============================] - 1s 3ms/step - loss: 2.2480 - accuracy: 0.1644 - val_loss: 2.3400 - val_accuracy: 0.0995\n",
            "Epoch 7/100\n",
            "375/375 [==============================] - 1s 3ms/step - loss: 2.2254 - accuracy: 0.1766 - val_loss: 2.3593 - val_accuracy: 0.1057\n",
            "Epoch 8/100\n",
            "375/375 [==============================] - 1s 3ms/step - loss: 2.1997 - accuracy: 0.1910 - val_loss: 2.3743 - val_accuracy: 0.1005\n",
            "Epoch 9/100\n",
            "375/375 [==============================] - 1s 3ms/step - loss: 2.1711 - accuracy: 0.2079 - val_loss: 2.3874 - val_accuracy: 0.0998\n",
            "Epoch 10/100\n",
            "375/375 [==============================] - 1s 3ms/step - loss: 2.1409 - accuracy: 0.2245 - val_loss: 2.4126 - val_accuracy: 0.1004\n",
            "Epoch 11/100\n",
            "375/375 [==============================] - 1s 3ms/step - loss: 2.1067 - accuracy: 0.2405 - val_loss: 2.4411 - val_accuracy: 0.0998\n",
            "Epoch 12/100\n",
            "375/375 [==============================] - 1s 3ms/step - loss: 2.0717 - accuracy: 0.2566 - val_loss: 2.4606 - val_accuracy: 0.0992\n",
            "Epoch 13/100\n",
            "375/375 [==============================] - 2s 4ms/step - loss: 2.0351 - accuracy: 0.2724 - val_loss: 2.4860 - val_accuracy: 0.0997\n",
            "Epoch 14/100\n",
            "375/375 [==============================] - 1s 4ms/step - loss: 1.9982 - accuracy: 0.2888 - val_loss: 2.5311 - val_accuracy: 0.0962\n",
            "Epoch 15/100\n",
            "375/375 [==============================] - 1s 3ms/step - loss: 1.9591 - accuracy: 0.3094 - val_loss: 2.5596 - val_accuracy: 0.0957\n",
            "Epoch 16/100\n",
            "375/375 [==============================] - 1s 3ms/step - loss: 1.9215 - accuracy: 0.3236 - val_loss: 2.5693 - val_accuracy: 0.0975\n",
            "Epoch 17/100\n",
            "375/375 [==============================] - 1s 3ms/step - loss: 1.8810 - accuracy: 0.3394 - val_loss: 2.6155 - val_accuracy: 0.0983\n",
            "Epoch 18/100\n",
            "375/375 [==============================] - 1s 3ms/step - loss: 1.8435 - accuracy: 0.3549 - val_loss: 2.6358 - val_accuracy: 0.1021\n",
            "Epoch 19/100\n",
            "375/375 [==============================] - 1s 3ms/step - loss: 1.8043 - accuracy: 0.3689 - val_loss: 2.6915 - val_accuracy: 0.0994\n",
            "Epoch 20/100\n",
            "375/375 [==============================] - 1s 3ms/step - loss: 1.7666 - accuracy: 0.3869 - val_loss: 2.7216 - val_accuracy: 0.0967\n",
            "Epoch 21/100\n",
            "375/375 [==============================] - 1s 3ms/step - loss: 1.7286 - accuracy: 0.3997 - val_loss: 2.7526 - val_accuracy: 0.1011\n",
            "Epoch 22/100\n",
            "375/375 [==============================] - 1s 3ms/step - loss: 1.6913 - accuracy: 0.4153 - val_loss: 2.8188 - val_accuracy: 0.0960\n",
            "Epoch 23/100\n",
            "375/375 [==============================] - 2s 4ms/step - loss: 1.6564 - accuracy: 0.4276 - val_loss: 2.8531 - val_accuracy: 0.0986\n",
            "Epoch 24/100\n",
            "375/375 [==============================] - 1s 3ms/step - loss: 1.6216 - accuracy: 0.4413 - val_loss: 2.8907 - val_accuracy: 0.1007\n",
            "Epoch 25/100\n",
            "375/375 [==============================] - 1s 3ms/step - loss: 1.5847 - accuracy: 0.4564 - val_loss: 2.9487 - val_accuracy: 0.0962\n",
            "Epoch 26/100\n",
            "375/375 [==============================] - 1s 3ms/step - loss: 1.5518 - accuracy: 0.4702 - val_loss: 2.9827 - val_accuracy: 0.0976\n",
            "Epoch 27/100\n",
            "375/375 [==============================] - 1s 3ms/step - loss: 1.5195 - accuracy: 0.4813 - val_loss: 3.0393 - val_accuracy: 0.0988\n",
            "Epoch 28/100\n",
            "375/375 [==============================] - 1s 3ms/step - loss: 1.4863 - accuracy: 0.4933 - val_loss: 3.0766 - val_accuracy: 0.0988\n",
            "Epoch 29/100\n",
            "375/375 [==============================] - 1s 3ms/step - loss: 1.4540 - accuracy: 0.5009 - val_loss: 3.1381 - val_accuracy: 0.1020\n",
            "Epoch 30/100\n",
            "375/375 [==============================] - 1s 3ms/step - loss: 1.4259 - accuracy: 0.5142 - val_loss: 3.1788 - val_accuracy: 0.1040\n",
            "Epoch 31/100\n",
            "375/375 [==============================] - 1s 3ms/step - loss: 1.3947 - accuracy: 0.5281 - val_loss: 3.2285 - val_accuracy: 0.0981\n",
            "Epoch 32/100\n",
            "375/375 [==============================] - 1s 3ms/step - loss: 1.3628 - accuracy: 0.5388 - val_loss: 3.3465 - val_accuracy: 0.1017\n",
            "Epoch 33/100\n",
            "375/375 [==============================] - 2s 4ms/step - loss: 1.3343 - accuracy: 0.5492 - val_loss: 3.3424 - val_accuracy: 0.0981\n",
            "Epoch 34/100\n",
            "375/375 [==============================] - 1s 3ms/step - loss: 1.3081 - accuracy: 0.5558 - val_loss: 3.3779 - val_accuracy: 0.0978\n",
            "Epoch 35/100\n",
            "375/375 [==============================] - 1s 3ms/step - loss: 1.2804 - accuracy: 0.5712 - val_loss: 3.4583 - val_accuracy: 0.1017\n",
            "Epoch 36/100\n",
            "375/375 [==============================] - 1s 3ms/step - loss: 1.2529 - accuracy: 0.5788 - val_loss: 3.4943 - val_accuracy: 0.1058\n",
            "Epoch 37/100\n",
            "375/375 [==============================] - 1s 3ms/step - loss: 1.2260 - accuracy: 0.5889 - val_loss: 3.5501 - val_accuracy: 0.1013\n",
            "Epoch 38/100\n",
            "375/375 [==============================] - 1s 3ms/step - loss: 1.2036 - accuracy: 0.5990 - val_loss: 3.5921 - val_accuracy: 0.1032\n",
            "Epoch 39/100\n",
            "375/375 [==============================] - 1s 3ms/step - loss: 1.1767 - accuracy: 0.6060 - val_loss: 3.6638 - val_accuracy: 0.1003\n",
            "Epoch 40/100\n",
            "375/375 [==============================] - 1s 3ms/step - loss: 1.1517 - accuracy: 0.6150 - val_loss: 3.6935 - val_accuracy: 0.1019\n",
            "Epoch 41/100\n",
            "375/375 [==============================] - 1s 3ms/step - loss: 1.1271 - accuracy: 0.6220 - val_loss: 3.7959 - val_accuracy: 0.0972\n",
            "Epoch 42/100\n",
            "375/375 [==============================] - 2s 4ms/step - loss: 1.1035 - accuracy: 0.6325 - val_loss: 3.8441 - val_accuracy: 0.1025\n",
            "Epoch 43/100\n",
            "375/375 [==============================] - 1s 3ms/step - loss: 1.0839 - accuracy: 0.6401 - val_loss: 3.8910 - val_accuracy: 0.1023\n",
            "Epoch 44/100\n",
            "375/375 [==============================] - 1s 3ms/step - loss: 1.0597 - accuracy: 0.6485 - val_loss: 3.9372 - val_accuracy: 0.1027\n",
            "Epoch 45/100\n",
            "375/375 [==============================] - 1s 3ms/step - loss: 1.0380 - accuracy: 0.6557 - val_loss: 4.0109 - val_accuracy: 0.1042\n",
            "Epoch 46/100\n",
            "375/375 [==============================] - 1s 3ms/step - loss: 1.0193 - accuracy: 0.6624 - val_loss: 4.0734 - val_accuracy: 0.1019\n",
            "Epoch 47/100\n",
            "375/375 [==============================] - 1s 3ms/step - loss: 0.9958 - accuracy: 0.6716 - val_loss: 4.1332 - val_accuracy: 0.1027\n",
            "Epoch 48/100\n",
            "375/375 [==============================] - 1s 3ms/step - loss: 0.9757 - accuracy: 0.6762 - val_loss: 4.1937 - val_accuracy: 0.1047\n",
            "Epoch 49/100\n",
            "375/375 [==============================] - 1s 3ms/step - loss: 0.9574 - accuracy: 0.6830 - val_loss: 4.2320 - val_accuracy: 0.1021\n",
            "Epoch 50/100\n",
            "375/375 [==============================] - 1s 3ms/step - loss: 0.9394 - accuracy: 0.6893 - val_loss: 4.3249 - val_accuracy: 0.1034\n",
            "Epoch 51/100\n",
            "375/375 [==============================] - 1s 3ms/step - loss: 0.9200 - accuracy: 0.6955 - val_loss: 4.3737 - val_accuracy: 0.1007\n",
            "Epoch 52/100\n",
            "375/375 [==============================] - 2s 4ms/step - loss: 0.9007 - accuracy: 0.7038 - val_loss: 4.4337 - val_accuracy: 0.1045\n",
            "Epoch 53/100\n",
            "375/375 [==============================] - 1s 3ms/step - loss: 0.8843 - accuracy: 0.7079 - val_loss: 4.5056 - val_accuracy: 0.1016\n",
            "Epoch 54/100\n",
            "375/375 [==============================] - 1s 3ms/step - loss: 0.8644 - accuracy: 0.7180 - val_loss: 4.5601 - val_accuracy: 0.0997\n",
            "Epoch 55/100\n",
            "375/375 [==============================] - 1s 3ms/step - loss: 0.8484 - accuracy: 0.7216 - val_loss: 4.6394 - val_accuracy: 0.1022\n",
            "Epoch 56/100\n",
            "375/375 [==============================] - 2s 4ms/step - loss: 0.8313 - accuracy: 0.7261 - val_loss: 4.6797 - val_accuracy: 0.1036\n",
            "Epoch 57/100\n",
            "375/375 [==============================] - 1s 4ms/step - loss: 0.8142 - accuracy: 0.7349 - val_loss: 4.7682 - val_accuracy: 0.1046\n",
            "Epoch 58/100\n",
            "375/375 [==============================] - 1s 3ms/step - loss: 0.7974 - accuracy: 0.7392 - val_loss: 4.8255 - val_accuracy: 0.1025\n",
            "Epoch 59/100\n",
            "375/375 [==============================] - 1s 3ms/step - loss: 0.7843 - accuracy: 0.7444 - val_loss: 4.9217 - val_accuracy: 0.1013\n",
            "Epoch 60/100\n",
            "375/375 [==============================] - 1s 3ms/step - loss: 0.7656 - accuracy: 0.7501 - val_loss: 4.9721 - val_accuracy: 0.1021\n",
            "Epoch 61/100\n",
            "375/375 [==============================] - 2s 4ms/step - loss: 0.7524 - accuracy: 0.7565 - val_loss: 5.0414 - val_accuracy: 0.0986\n",
            "Epoch 62/100\n",
            "375/375 [==============================] - 1s 4ms/step - loss: 0.7363 - accuracy: 0.7620 - val_loss: 5.1336 - val_accuracy: 0.1062\n",
            "Epoch 63/100\n",
            "375/375 [==============================] - 1s 3ms/step - loss: 0.7209 - accuracy: 0.7642 - val_loss: 5.1589 - val_accuracy: 0.1018\n",
            "Epoch 64/100\n",
            "375/375 [==============================] - 1s 3ms/step - loss: 0.7087 - accuracy: 0.7693 - val_loss: 5.2278 - val_accuracy: 0.1005\n",
            "Epoch 65/100\n",
            "375/375 [==============================] - 1s 3ms/step - loss: 0.6946 - accuracy: 0.7747 - val_loss: 5.2953 - val_accuracy: 0.1004\n",
            "Epoch 66/100\n",
            "375/375 [==============================] - 1s 3ms/step - loss: 0.6803 - accuracy: 0.7819 - val_loss: 5.3822 - val_accuracy: 0.1023\n",
            "Epoch 67/100\n",
            "375/375 [==============================] - 1s 3ms/step - loss: 0.6659 - accuracy: 0.7836 - val_loss: 5.4652 - val_accuracy: 0.1046\n",
            "Epoch 68/100\n",
            "375/375 [==============================] - 1s 3ms/step - loss: 0.6557 - accuracy: 0.7889 - val_loss: 5.5126 - val_accuracy: 0.1022\n",
            "Epoch 69/100\n",
            "375/375 [==============================] - 1s 3ms/step - loss: 0.6414 - accuracy: 0.7940 - val_loss: 5.5844 - val_accuracy: 0.1035\n",
            "Epoch 70/100\n",
            "375/375 [==============================] - 1s 3ms/step - loss: 0.6317 - accuracy: 0.7986 - val_loss: 5.6789 - val_accuracy: 0.1051\n",
            "Epoch 71/100\n",
            "375/375 [==============================] - 1s 4ms/step - loss: 0.6185 - accuracy: 0.8006 - val_loss: 5.7132 - val_accuracy: 0.1030\n",
            "Epoch 72/100\n",
            "375/375 [==============================] - 1s 4ms/step - loss: 0.6061 - accuracy: 0.8052 - val_loss: 5.7824 - val_accuracy: 0.1057\n",
            "Epoch 73/100\n",
            "375/375 [==============================] - 1s 3ms/step - loss: 0.5915 - accuracy: 0.8103 - val_loss: 5.8865 - val_accuracy: 0.1052\n",
            "Epoch 74/100\n",
            "375/375 [==============================] - 1s 3ms/step - loss: 0.5820 - accuracy: 0.8144 - val_loss: 5.9541 - val_accuracy: 0.1043\n",
            "Epoch 75/100\n",
            "375/375 [==============================] - 1s 3ms/step - loss: 0.5717 - accuracy: 0.8191 - val_loss: 6.0530 - val_accuracy: 0.1013\n",
            "Epoch 76/100\n",
            "375/375 [==============================] - 1s 3ms/step - loss: 0.5627 - accuracy: 0.8197 - val_loss: 6.1046 - val_accuracy: 0.1035\n",
            "Epoch 77/100\n",
            "375/375 [==============================] - 1s 3ms/step - loss: 0.5504 - accuracy: 0.8255 - val_loss: 6.1642 - val_accuracy: 0.1034\n",
            "Epoch 78/100\n",
            "375/375 [==============================] - 1s 3ms/step - loss: 0.5399 - accuracy: 0.8287 - val_loss: 6.2296 - val_accuracy: 0.1035\n",
            "Epoch 79/100\n",
            "375/375 [==============================] - 1s 3ms/step - loss: 0.5272 - accuracy: 0.8319 - val_loss: 6.2633 - val_accuracy: 0.1036\n",
            "Epoch 80/100\n",
            "375/375 [==============================] - 1s 4ms/step - loss: 0.5189 - accuracy: 0.8347 - val_loss: 6.3912 - val_accuracy: 0.1013\n",
            "Epoch 81/100\n",
            "375/375 [==============================] - 2s 5ms/step - loss: 0.5082 - accuracy: 0.8408 - val_loss: 6.4179 - val_accuracy: 0.1058\n",
            "Epoch 82/100\n",
            "375/375 [==============================] - 2s 5ms/step - loss: 0.5002 - accuracy: 0.8409 - val_loss: 6.4838 - val_accuracy: 0.1048\n",
            "Epoch 83/100\n",
            "375/375 [==============================] - 1s 3ms/step - loss: 0.4921 - accuracy: 0.8435 - val_loss: 6.5622 - val_accuracy: 0.1055\n",
            "Epoch 84/100\n",
            "375/375 [==============================] - 1s 3ms/step - loss: 0.4827 - accuracy: 0.8468 - val_loss: 6.6592 - val_accuracy: 0.1027\n",
            "Epoch 85/100\n",
            "375/375 [==============================] - 1s 3ms/step - loss: 0.4724 - accuracy: 0.8508 - val_loss: 6.6960 - val_accuracy: 0.1021\n",
            "Epoch 86/100\n",
            "375/375 [==============================] - 1s 3ms/step - loss: 0.4641 - accuracy: 0.8539 - val_loss: 6.8021 - val_accuracy: 0.1021\n",
            "Epoch 87/100\n",
            "375/375 [==============================] - 1s 3ms/step - loss: 0.4564 - accuracy: 0.8567 - val_loss: 6.8712 - val_accuracy: 0.1049\n",
            "Epoch 88/100\n",
            "375/375 [==============================] - 1s 3ms/step - loss: 0.4469 - accuracy: 0.8587 - val_loss: 6.9458 - val_accuracy: 0.1017\n",
            "Epoch 89/100\n",
            "375/375 [==============================] - 1s 3ms/step - loss: 0.4394 - accuracy: 0.8624 - val_loss: 7.0068 - val_accuracy: 0.1051\n",
            "Epoch 90/100\n",
            "375/375 [==============================] - 1s 3ms/step - loss: 0.4333 - accuracy: 0.8651 - val_loss: 7.0894 - val_accuracy: 0.1028\n",
            "Epoch 91/100\n",
            "375/375 [==============================] - 1s 4ms/step - loss: 0.4244 - accuracy: 0.8660 - val_loss: 7.1980 - val_accuracy: 0.1026\n",
            "Epoch 92/100\n",
            "375/375 [==============================] - 2s 4ms/step - loss: 0.4174 - accuracy: 0.8680 - val_loss: 7.2480 - val_accuracy: 0.1058\n",
            "Epoch 93/100\n",
            "375/375 [==============================] - 1s 3ms/step - loss: 0.4085 - accuracy: 0.8739 - val_loss: 7.3139 - val_accuracy: 0.1042\n",
            "Epoch 94/100\n",
            "375/375 [==============================] - 1s 3ms/step - loss: 0.4005 - accuracy: 0.8755 - val_loss: 7.3575 - val_accuracy: 0.1052\n",
            "Epoch 95/100\n",
            "375/375 [==============================] - 1s 3ms/step - loss: 0.3946 - accuracy: 0.8767 - val_loss: 7.4564 - val_accuracy: 0.1037\n",
            "Epoch 96/100\n",
            "375/375 [==============================] - 1s 3ms/step - loss: 0.3856 - accuracy: 0.8793 - val_loss: 7.5316 - val_accuracy: 0.1074\n",
            "Epoch 97/100\n",
            "375/375 [==============================] - 1s 3ms/step - loss: 0.3791 - accuracy: 0.8830 - val_loss: 7.7021 - val_accuracy: 0.1037\n",
            "Epoch 98/100\n",
            "375/375 [==============================] - 1s 3ms/step - loss: 0.3729 - accuracy: 0.8855 - val_loss: 7.6453 - val_accuracy: 0.1029\n",
            "Epoch 99/100\n",
            "375/375 [==============================] - 1s 3ms/step - loss: 0.3667 - accuracy: 0.8864 - val_loss: 7.7637 - val_accuracy: 0.1024\n",
            "Epoch 100/100\n",
            "375/375 [==============================] - 1s 3ms/step - loss: 0.3600 - accuracy: 0.8882 - val_loss: 7.8092 - val_accuracy: 0.1032\n"
          ]
        },
        {
          "output_type": "execute_result",
          "data": {
            "text/plain": [
              "<keras.src.callbacks.History at 0x7f2c404bdcc0>"
            ]
          },
          "metadata": {},
          "execution_count": 4
        }
      ],
      "source": [
        "(train_images, train_labels), _ = mnist.load_data()\n",
        "train_images = train_images.reshape((60000, 28 * 28))\n",
        "train_images = train_images.astype(\"float32\") / 255\n",
        "\n",
        "random_train_labels = train_labels[:]\n",
        "np.random.shuffle(random_train_labels)\n",
        "\n",
        "model = keras.Sequential([\n",
        "    layers.Dense(512, activation=\"relu\"),\n",
        "    layers.Dense(10, activation=\"softmax\")\n",
        "])\n",
        "model.compile(optimizer=\"rmsprop\",\n",
        "              loss=\"sparse_categorical_crossentropy\",\n",
        "              metrics=[\"accuracy\"])\n",
        "model.fit(train_images, random_train_labels,\n",
        "          epochs=100,\n",
        "          batch_size=128,\n",
        "          validation_split=0.2)"
      ]
    },
    {
      "cell_type": "markdown",
      "metadata": {
        "id": "HygnrEPAEAMf"
      },
      "source": [
        "#### The manifold hypothesis"
      ]
    },
    {
      "cell_type": "markdown",
      "metadata": {
        "id": "cNpQ-DC0EAMf"
      },
      "source": [
        "#### Interpolation as a source of generalization"
      ]
    },
    {
      "cell_type": "markdown",
      "metadata": {
        "id": "_ybLXFNHEAMf"
      },
      "source": [
        "#### Why deep learning works"
      ]
    },
    {
      "cell_type": "markdown",
      "metadata": {
        "id": "JuLDqExeEAMg"
      },
      "source": [
        "#### Training data is paramount"
      ]
    },
    {
      "cell_type": "markdown",
      "metadata": {
        "id": "QflpuP10EAMg"
      },
      "source": [
        "## Evaluating machine-learning models"
      ]
    },
    {
      "cell_type": "markdown",
      "metadata": {
        "id": "ovVlnT2hEAMg"
      },
      "source": [
        "### Training, validation, and test sets"
      ]
    },
    {
      "cell_type": "markdown",
      "metadata": {
        "id": "2oSXqCr0EAMg"
      },
      "source": [
        "#### Simple hold-out validation"
      ]
    },
    {
      "cell_type": "markdown",
      "metadata": {
        "id": "i3okOl7YEAMg"
      },
      "source": [
        "#### K-fold validation"
      ]
    },
    {
      "cell_type": "markdown",
      "metadata": {
        "id": "eb2JSwG2EAMg"
      },
      "source": [
        "#### Iterated K-fold validation with shuffling"
      ]
    },
    {
      "cell_type": "markdown",
      "metadata": {
        "id": "xNdYtGyWEAMg"
      },
      "source": [
        "### Beating a common-sense baseline"
      ]
    },
    {
      "cell_type": "markdown",
      "metadata": {
        "id": "tNITBSTQEAMg"
      },
      "source": [
        "### Things to keep in mind about model evaluation"
      ]
    },
    {
      "cell_type": "markdown",
      "metadata": {
        "id": "qDgYI-xiEAMg"
      },
      "source": [
        "## Improving model fit"
      ]
    },
    {
      "cell_type": "markdown",
      "metadata": {
        "id": "gUq3pwuQEAMg"
      },
      "source": [
        "### Tuning key gradient descent parameters"
      ]
    },
    {
      "cell_type": "markdown",
      "metadata": {
        "id": "KM3kpfkZEAMg"
      },
      "source": [
        "**Training a MNIST model with an incorrectly high learning rate**"
      ]
    },
    {
      "cell_type": "code",
      "execution_count": 5,
      "metadata": {
        "id": "kdZvHQLoEAMg",
        "outputId": "d8fee82d-fb1b-44b6-b69c-230d6b0b094c",
        "colab": {
          "base_uri": "https://localhost:8080/"
        }
      },
      "outputs": [
        {
          "output_type": "stream",
          "name": "stdout",
          "text": [
            "Epoch 1/10\n",
            "375/375 [==============================] - 2s 3ms/step - loss: 605.9507 - accuracy: 0.2362 - val_loss: 2.3889 - val_accuracy: 0.1411\n",
            "Epoch 2/10\n",
            "375/375 [==============================] - 1s 3ms/step - loss: 2.7331 - accuracy: 0.1485 - val_loss: 2.4054 - val_accuracy: 0.1205\n",
            "Epoch 3/10\n",
            "375/375 [==============================] - 1s 3ms/step - loss: 2.5383 - accuracy: 0.1559 - val_loss: 2.5672 - val_accuracy: 0.1483\n",
            "Epoch 4/10\n",
            "375/375 [==============================] - 1s 3ms/step - loss: 2.5132 - accuracy: 0.1498 - val_loss: 2.2327 - val_accuracy: 0.1674\n",
            "Epoch 5/10\n",
            "375/375 [==============================] - 1s 4ms/step - loss: 2.3935 - accuracy: 0.1458 - val_loss: 2.3140 - val_accuracy: 0.1822\n",
            "Epoch 6/10\n",
            "375/375 [==============================] - 2s 4ms/step - loss: 2.4118 - accuracy: 0.1758 - val_loss: 2.3361 - val_accuracy: 0.1689\n",
            "Epoch 7/10\n",
            "375/375 [==============================] - 1s 3ms/step - loss: 2.6035 - accuracy: 0.1808 - val_loss: 2.2792 - val_accuracy: 0.1500\n",
            "Epoch 8/10\n",
            "375/375 [==============================] - 1s 3ms/step - loss: 2.3125 - accuracy: 0.1806 - val_loss: 2.3683 - val_accuracy: 0.1554\n",
            "Epoch 9/10\n",
            "375/375 [==============================] - 1s 3ms/step - loss: 2.4617 - accuracy: 0.2070 - val_loss: 2.0731 - val_accuracy: 0.2659\n",
            "Epoch 10/10\n",
            "375/375 [==============================] - 1s 3ms/step - loss: 2.7923 - accuracy: 0.1909 - val_loss: 2.3019 - val_accuracy: 0.1732\n"
          ]
        },
        {
          "output_type": "execute_result",
          "data": {
            "text/plain": [
              "<keras.src.callbacks.History at 0x7f2cc0c612d0>"
            ]
          },
          "metadata": {},
          "execution_count": 5
        }
      ],
      "source": [
        "(train_images, train_labels), _ = mnist.load_data()\n",
        "train_images = train_images.reshape((60000, 28 * 28))\n",
        "train_images = train_images.astype(\"float32\") / 255\n",
        "\n",
        "model = keras.Sequential([\n",
        "    layers.Dense(512, activation=\"relu\"),\n",
        "    layers.Dense(10, activation=\"softmax\")\n",
        "])\n",
        "model.compile(optimizer=keras.optimizers.RMSprop(1.),\n",
        "              loss=\"sparse_categorical_crossentropy\",\n",
        "              metrics=[\"accuracy\"])\n",
        "model.fit(train_images, train_labels,\n",
        "          epochs=10,\n",
        "          batch_size=128,\n",
        "          validation_split=0.2)"
      ]
    },
    {
      "cell_type": "markdown",
      "metadata": {
        "id": "bz6unUtqEAMg"
      },
      "source": [
        "**The same model with a more appropriate learning rate**"
      ]
    },
    {
      "cell_type": "code",
      "execution_count": 6,
      "metadata": {
        "id": "ZRX-beGlEAMg",
        "outputId": "f45b6c6f-51f6-4d6a-f7ed-e47c6ec37af4",
        "colab": {
          "base_uri": "https://localhost:8080/"
        }
      },
      "outputs": [
        {
          "output_type": "stream",
          "name": "stdout",
          "text": [
            "Epoch 1/10\n",
            "375/375 [==============================] - 2s 4ms/step - loss: 0.3483 - accuracy: 0.9125 - val_loss: 0.1360 - val_accuracy: 0.9608\n",
            "Epoch 2/10\n",
            "375/375 [==============================] - 1s 3ms/step - loss: 0.1238 - accuracy: 0.9648 - val_loss: 0.1249 - val_accuracy: 0.9676\n",
            "Epoch 3/10\n",
            "375/375 [==============================] - 1s 3ms/step - loss: 0.0976 - accuracy: 0.9742 - val_loss: 0.1741 - val_accuracy: 0.9629\n",
            "Epoch 4/10\n",
            "375/375 [==============================] - 1s 3ms/step - loss: 0.0824 - accuracy: 0.9786 - val_loss: 0.1590 - val_accuracy: 0.9691\n",
            "Epoch 5/10\n",
            "375/375 [==============================] - 1s 3ms/step - loss: 0.0686 - accuracy: 0.9826 - val_loss: 0.1568 - val_accuracy: 0.9715\n",
            "Epoch 6/10\n",
            "375/375 [==============================] - 1s 3ms/step - loss: 0.0586 - accuracy: 0.9860 - val_loss: 0.1703 - val_accuracy: 0.9717\n",
            "Epoch 7/10\n",
            "375/375 [==============================] - 2s 4ms/step - loss: 0.0521 - accuracy: 0.9881 - val_loss: 0.1770 - val_accuracy: 0.9726\n",
            "Epoch 8/10\n",
            "375/375 [==============================] - 1s 4ms/step - loss: 0.0503 - accuracy: 0.9886 - val_loss: 0.2216 - val_accuracy: 0.9701\n",
            "Epoch 9/10\n",
            "375/375 [==============================] - 1s 3ms/step - loss: 0.0423 - accuracy: 0.9905 - val_loss: 0.2545 - val_accuracy: 0.9712\n",
            "Epoch 10/10\n",
            "375/375 [==============================] - 1s 3ms/step - loss: 0.0403 - accuracy: 0.9912 - val_loss: 0.3079 - val_accuracy: 0.9668\n"
          ]
        },
        {
          "output_type": "execute_result",
          "data": {
            "text/plain": [
              "<keras.src.callbacks.History at 0x7f2cbf31bd30>"
            ]
          },
          "metadata": {},
          "execution_count": 6
        }
      ],
      "source": [
        "model = keras.Sequential([\n",
        "    layers.Dense(512, activation=\"relu\"),\n",
        "    layers.Dense(10, activation=\"softmax\")\n",
        "])\n",
        "model.compile(optimizer=keras.optimizers.RMSprop(1e-2),\n",
        "              loss=\"sparse_categorical_crossentropy\",\n",
        "              metrics=[\"accuracy\"])\n",
        "model.fit(train_images, train_labels,\n",
        "          epochs=10,\n",
        "          batch_size=128,\n",
        "          validation_split=0.2)"
      ]
    },
    {
      "cell_type": "markdown",
      "metadata": {
        "id": "66UmD8BbEAMg"
      },
      "source": [
        "### Leveraging better architecture priors"
      ]
    },
    {
      "cell_type": "markdown",
      "metadata": {
        "id": "t5s7_KbQEAMg"
      },
      "source": [
        "### Increasing model capacity"
      ]
    },
    {
      "cell_type": "markdown",
      "metadata": {
        "id": "wUIOIqChEAMg"
      },
      "source": [
        "**A simple logistic regression on MNIST**"
      ]
    },
    {
      "cell_type": "code",
      "execution_count": 7,
      "metadata": {
        "id": "5cZ4QPinEAMg",
        "outputId": "2945604b-d386-42f3-a088-82df560aeb6d",
        "colab": {
          "base_uri": "https://localhost:8080/"
        }
      },
      "outputs": [
        {
          "output_type": "stream",
          "name": "stdout",
          "text": [
            "Epoch 1/20\n",
            "375/375 [==============================] - 2s 5ms/step - loss: 0.6599 - accuracy: 0.8417 - val_loss: 0.3611 - val_accuracy: 0.9037\n",
            "Epoch 2/20\n",
            "375/375 [==============================] - 2s 5ms/step - loss: 0.3522 - accuracy: 0.9022 - val_loss: 0.3094 - val_accuracy: 0.9156\n",
            "Epoch 3/20\n",
            "375/375 [==============================] - 2s 5ms/step - loss: 0.3174 - accuracy: 0.9118 - val_loss: 0.2926 - val_accuracy: 0.9184\n",
            "Epoch 4/20\n",
            "375/375 [==============================] - 2s 5ms/step - loss: 0.3018 - accuracy: 0.9154 - val_loss: 0.2840 - val_accuracy: 0.9216\n",
            "Epoch 5/20\n",
            "375/375 [==============================] - 3s 8ms/step - loss: 0.2920 - accuracy: 0.9186 - val_loss: 0.2800 - val_accuracy: 0.9222\n",
            "Epoch 6/20\n",
            "375/375 [==============================] - 1s 3ms/step - loss: 0.2852 - accuracy: 0.9200 - val_loss: 0.2742 - val_accuracy: 0.9262\n",
            "Epoch 7/20\n",
            "375/375 [==============================] - 1s 3ms/step - loss: 0.2804 - accuracy: 0.9219 - val_loss: 0.2728 - val_accuracy: 0.9260\n",
            "Epoch 8/20\n",
            "375/375 [==============================] - 1s 3ms/step - loss: 0.2766 - accuracy: 0.9228 - val_loss: 0.2720 - val_accuracy: 0.9262\n",
            "Epoch 9/20\n",
            "375/375 [==============================] - 1s 3ms/step - loss: 0.2735 - accuracy: 0.9238 - val_loss: 0.2676 - val_accuracy: 0.9283\n",
            "Epoch 10/20\n",
            "375/375 [==============================] - 1s 3ms/step - loss: 0.2709 - accuracy: 0.9251 - val_loss: 0.2683 - val_accuracy: 0.9277\n",
            "Epoch 11/20\n",
            "375/375 [==============================] - 1s 3ms/step - loss: 0.2684 - accuracy: 0.9255 - val_loss: 0.2660 - val_accuracy: 0.9289\n",
            "Epoch 12/20\n",
            "375/375 [==============================] - 1s 3ms/step - loss: 0.2665 - accuracy: 0.9265 - val_loss: 0.2666 - val_accuracy: 0.9281\n",
            "Epoch 13/20\n",
            "375/375 [==============================] - 1s 3ms/step - loss: 0.2650 - accuracy: 0.9271 - val_loss: 0.2650 - val_accuracy: 0.9278\n",
            "Epoch 14/20\n",
            "375/375 [==============================] - 1s 3ms/step - loss: 0.2631 - accuracy: 0.9269 - val_loss: 0.2643 - val_accuracy: 0.9296\n",
            "Epoch 15/20\n",
            "375/375 [==============================] - 1s 4ms/step - loss: 0.2619 - accuracy: 0.9280 - val_loss: 0.2633 - val_accuracy: 0.9296\n",
            "Epoch 16/20\n",
            "375/375 [==============================] - 1s 3ms/step - loss: 0.2607 - accuracy: 0.9283 - val_loss: 0.2637 - val_accuracy: 0.9293\n",
            "Epoch 17/20\n",
            "375/375 [==============================] - 1s 3ms/step - loss: 0.2594 - accuracy: 0.9289 - val_loss: 0.2633 - val_accuracy: 0.9302\n",
            "Epoch 18/20\n",
            "375/375 [==============================] - 1s 3ms/step - loss: 0.2582 - accuracy: 0.9296 - val_loss: 0.2655 - val_accuracy: 0.9285\n",
            "Epoch 19/20\n",
            "375/375 [==============================] - 1s 3ms/step - loss: 0.2574 - accuracy: 0.9295 - val_loss: 0.2631 - val_accuracy: 0.9299\n",
            "Epoch 20/20\n",
            "375/375 [==============================] - 1s 3ms/step - loss: 0.2563 - accuracy: 0.9296 - val_loss: 0.2629 - val_accuracy: 0.9300\n"
          ]
        }
      ],
      "source": [
        "model = keras.Sequential([layers.Dense(10, activation=\"softmax\")])\n",
        "model.compile(optimizer=\"rmsprop\",\n",
        "              loss=\"sparse_categorical_crossentropy\",\n",
        "              metrics=[\"accuracy\"])\n",
        "history_small_model = model.fit(\n",
        "    train_images, train_labels,\n",
        "    epochs=20,\n",
        "    batch_size=128,\n",
        "    validation_split=0.2)"
      ]
    },
    {
      "cell_type": "code",
      "execution_count": 8,
      "metadata": {
        "id": "T3K_ZTtCEAMg",
        "outputId": "0e580bc7-d6ff-4a18-bdbe-5addd139124b",
        "colab": {
          "base_uri": "https://localhost:8080/",
          "height": 490
        }
      },
      "outputs": [
        {
          "output_type": "execute_result",
          "data": {
            "text/plain": [
              "<matplotlib.legend.Legend at 0x7f2cbf9e2650>"
            ]
          },
          "metadata": {},
          "execution_count": 8
        },
        {
          "output_type": "display_data",
          "data": {
            "text/plain": [
              "<Figure size 640x480 with 1 Axes>"
            ],
            "image/png": "[encoded data removed]"
          },
          "metadata": {}
        }
      ],
      "source": [
        "import matplotlib.pyplot as plt\n",
        "val_loss = history_small_model.history[\"val_loss\"]\n",
        "epochs = range(1, 21)\n",
        "plt.plot(epochs, val_loss, \"b--\",\n",
        "         label=\"Validation loss\")\n",
        "plt.title(\"Effect of insufficient model capacity on validation loss\")\n",
        "plt.xlabel(\"Epochs\")\n",
        "plt.ylabel(\"Loss\")\n",
        "plt.legend()"
      ]
    },
    {
      "cell_type": "code",
      "execution_count": 9,
      "metadata": {
        "id": "RO9kCsobEAMg",
        "outputId": "29de37bd-1d4f-484b-b455-c7049871df77",
        "colab": {
          "base_uri": "https://localhost:8080/"
        }
      },
      "outputs": [
        {
          "output_type": "stream",
          "name": "stdout",
          "text": [
            "Epoch 1/20\n",
            "375/375 [==============================] - 2s 4ms/step - loss: 0.3695 - accuracy: 0.8971 - val_loss: 0.1906 - val_accuracy: 0.9458\n",
            "Epoch 2/20\n",
            "375/375 [==============================] - 1s 4ms/step - loss: 0.1661 - accuracy: 0.9508 - val_loss: 0.1378 - val_accuracy: 0.9600\n",
            "Epoch 3/20\n",
            "375/375 [==============================] - 2s 4ms/step - loss: 0.1193 - accuracy: 0.9645 - val_loss: 0.1181 - val_accuracy: 0.9664\n",
            "Epoch 4/20\n",
            "375/375 [==============================] - 1s 3ms/step - loss: 0.0910 - accuracy: 0.9725 - val_loss: 0.1063 - val_accuracy: 0.9701\n",
            "Epoch 5/20\n",
            "375/375 [==============================] - 1s 3ms/step - loss: 0.0722 - accuracy: 0.9781 - val_loss: 0.1025 - val_accuracy: 0.9699\n",
            "Epoch 6/20\n",
            "375/375 [==============================] - 1s 3ms/step - loss: 0.0595 - accuracy: 0.9819 - val_loss: 0.1094 - val_accuracy: 0.9704\n",
            "Epoch 7/20\n",
            "375/375 [==============================] - 1s 3ms/step - loss: 0.0499 - accuracy: 0.9845 - val_loss: 0.0966 - val_accuracy: 0.9741\n",
            "Epoch 8/20\n",
            "375/375 [==============================] - 1s 3ms/step - loss: 0.0405 - accuracy: 0.9879 - val_loss: 0.1190 - val_accuracy: 0.9677\n",
            "Epoch 9/20\n",
            "375/375 [==============================] - 1s 3ms/step - loss: 0.0359 - accuracy: 0.9889 - val_loss: 0.0987 - val_accuracy: 0.9744\n",
            "Epoch 10/20\n",
            "375/375 [==============================] - 1s 3ms/step - loss: 0.0294 - accuracy: 0.9910 - val_loss: 0.1275 - val_accuracy: 0.9686\n",
            "Epoch 11/20\n",
            "375/375 [==============================] - 1s 4ms/step - loss: 0.0258 - accuracy: 0.9918 - val_loss: 0.0971 - val_accuracy: 0.9755\n",
            "Epoch 12/20\n",
            "375/375 [==============================] - 2s 5ms/step - loss: 0.0212 - accuracy: 0.9933 - val_loss: 0.1088 - val_accuracy: 0.9756\n",
            "Epoch 13/20\n",
            "375/375 [==============================] - 1s 3ms/step - loss: 0.0173 - accuracy: 0.9946 - val_loss: 0.1265 - val_accuracy: 0.9720\n",
            "Epoch 14/20\n",
            "375/375 [==============================] - 1s 3ms/step - loss: 0.0155 - accuracy: 0.9954 - val_loss: 0.1120 - val_accuracy: 0.9762\n",
            "Epoch 15/20\n",
            "375/375 [==============================] - 1s 3ms/step - loss: 0.0128 - accuracy: 0.9961 - val_loss: 0.1134 - val_accuracy: 0.9763\n",
            "Epoch 16/20\n",
            "375/375 [==============================] - 1s 3ms/step - loss: 0.0103 - accuracy: 0.9970 - val_loss: 0.1247 - val_accuracy: 0.9763\n",
            "Epoch 17/20\n",
            "375/375 [==============================] - 1s 3ms/step - loss: 0.0093 - accuracy: 0.9974 - val_loss: 0.1278 - val_accuracy: 0.9752\n",
            "Epoch 18/20\n",
            "375/375 [==============================] - 1s 3ms/step - loss: 0.0087 - accuracy: 0.9973 - val_loss: 0.1266 - val_accuracy: 0.9758\n",
            "Epoch 19/20\n",
            "375/375 [==============================] - 1s 3ms/step - loss: 0.0079 - accuracy: 0.9977 - val_loss: 0.1381 - val_accuracy: 0.9747\n",
            "Epoch 20/20\n",
            "375/375 [==============================] - 1s 4ms/step - loss: 0.0055 - accuracy: 0.9985 - val_loss: 0.1414 - val_accuracy: 0.9758\n"
          ]
        }
      ],
      "source": [
        "model = keras.Sequential([\n",
        "    layers.Dense(96, activation=\"relu\"),\n",
        "    layers.Dense(96, activation=\"relu\"),\n",
        "    layers.Dense(10, activation=\"softmax\"),\n",
        "])\n",
        "model.compile(optimizer=\"rmsprop\",\n",
        "              loss=\"sparse_categorical_crossentropy\",\n",
        "              metrics=[\"accuracy\"])\n",
        "history_large_model = model.fit(\n",
        "    train_images, train_labels,\n",
        "    epochs=20,\n",
        "    batch_size=128,\n",
        "    validation_split=0.2)"
      ]
    },
    {
      "cell_type": "markdown",
      "metadata": {
        "id": "mRZVHMDCEAMh"
      },
      "source": [
        "## Improving generalization"
      ]
    },
    {
      "cell_type": "markdown",
      "metadata": {
        "id": "EgVwpddvEAMh"
      },
      "source": [
        "### Dataset curation"
      ]
    },
    {
      "cell_type": "markdown",
      "metadata": {
        "id": "7-x-4mSFEAMh"
      },
      "source": [
        "### Feature engineering"
      ]
    },
    {
      "cell_type": "markdown",
      "metadata": {
        "id": "PPB6sRRWEAMh"
      },
      "source": [
        "### Using early stopping"
      ]
    },
    {
      "cell_type": "markdown",
      "metadata": {
        "id": "sRPCmFpnEAMh"
      },
      "source": [
        "### Regularizing your model"
      ]
    },
    {
      "cell_type": "markdown",
      "metadata": {
        "id": "Hh4zWiAoEAMh"
      },
      "source": [
        "#### Reducing the network's size"
      ]
    },
    {
      "cell_type": "markdown",
      "metadata": {
        "id": "mHLr9X-NEAMh"
      },
      "source": [
        "**Original model**"
      ]
    },
    {
      "cell_type": "code",
      "execution_count": 10,
      "metadata": {
        "id": "Rbk9LuTXEAMh",
        "outputId": "5bafb249-d1a7-4435-80ac-d96d32ff5e15",
        "colab": {
          "base_uri": "https://localhost:8080/"
        }
      },
      "outputs": [
        {
          "output_type": "stream",
          "name": "stdout",
          "text": [
            "Downloading data from https://storage.googleapis.com/tensorflow/tf-keras-datasets/imdb.npz\n",
            "17464789/17464789 [==============================] - 0s 0us/step\n",
            "Epoch 1/20\n",
            "30/30 [==============================] - 4s 81ms/step - loss: 0.5295 - accuracy: 0.7825 - val_loss: 0.3996 - val_accuracy: 0.8707\n",
            "Epoch 2/20\n",
            "30/30 [==============================] - 1s 31ms/step - loss: 0.3289 - accuracy: 0.8939 - val_loss: 0.3168 - val_accuracy: 0.8841\n",
            "Epoch 3/20\n",
            "30/30 [==============================] - 1s 24ms/step - loss: 0.2488 - accuracy: 0.9151 - val_loss: 0.2910 - val_accuracy: 0.8867\n",
            "Epoch 4/20\n",
            "30/30 [==============================] - 1s 24ms/step - loss: 0.2003 - accuracy: 0.9325 - val_loss: 0.2845 - val_accuracy: 0.8858\n",
            "Epoch 5/20\n",
            "30/30 [==============================] - 1s 24ms/step - loss: 0.1713 - accuracy: 0.9439 - val_loss: 0.2777 - val_accuracy: 0.8888\n",
            "Epoch 6/20\n",
            "30/30 [==============================] - 1s 23ms/step - loss: 0.1438 - accuracy: 0.9531 - val_loss: 0.2912 - val_accuracy: 0.8834\n",
            "Epoch 7/20\n",
            "30/30 [==============================] - 1s 25ms/step - loss: 0.1269 - accuracy: 0.9593 - val_loss: 0.2949 - val_accuracy: 0.8852\n",
            "Epoch 8/20\n",
            "30/30 [==============================] - 1s 22ms/step - loss: 0.1079 - accuracy: 0.9661 - val_loss: 0.3229 - val_accuracy: 0.8813\n",
            "Epoch 9/20\n",
            "30/30 [==============================] - 1s 23ms/step - loss: 0.0975 - accuracy: 0.9713 - val_loss: 0.3256 - val_accuracy: 0.8827\n",
            "Epoch 10/20\n",
            "30/30 [==============================] - 1s 25ms/step - loss: 0.0836 - accuracy: 0.9758 - val_loss: 0.3413 - val_accuracy: 0.8813\n",
            "Epoch 11/20\n",
            "30/30 [==============================] - 1s 22ms/step - loss: 0.0732 - accuracy: 0.9791 - val_loss: 0.3604 - val_accuracy: 0.8781\n",
            "Epoch 12/20\n",
            "30/30 [==============================] - 1s 22ms/step - loss: 0.0647 - accuracy: 0.9825 - val_loss: 0.3798 - val_accuracy: 0.8755\n",
            "Epoch 13/20\n",
            "30/30 [==============================] - 1s 22ms/step - loss: 0.0577 - accuracy: 0.9858 - val_loss: 0.3970 - val_accuracy: 0.8763\n",
            "Epoch 14/20\n",
            "30/30 [==============================] - 1s 22ms/step - loss: 0.0476 - accuracy: 0.9891 - val_loss: 0.4315 - val_accuracy: 0.8742\n",
            "Epoch 15/20\n",
            "30/30 [==============================] - 1s 25ms/step - loss: 0.0432 - accuracy: 0.9903 - val_loss: 0.4630 - val_accuracy: 0.8704\n",
            "Epoch 16/20\n",
            "30/30 [==============================] - 1s 24ms/step - loss: 0.0388 - accuracy: 0.9919 - val_loss: 0.4645 - val_accuracy: 0.8718\n",
            "Epoch 17/20\n",
            "30/30 [==============================] - 1s 26ms/step - loss: 0.0336 - accuracy: 0.9920 - val_loss: 0.4862 - val_accuracy: 0.8726\n",
            "Epoch 18/20\n",
            "30/30 [==============================] - 1s 28ms/step - loss: 0.0261 - accuracy: 0.9956 - val_loss: 0.5099 - val_accuracy: 0.8710\n",
            "Epoch 19/20\n",
            "30/30 [==============================] - 1s 30ms/step - loss: 0.0231 - accuracy: 0.9965 - val_loss: 0.5539 - val_accuracy: 0.8681\n",
            "Epoch 20/20\n",
            "30/30 [==============================] - 1s 25ms/step - loss: 0.0235 - accuracy: 0.9952 - val_loss: 0.5597 - val_accuracy: 0.8701\n"
          ]
        }
      ],
      "source": [
        "from tensorflow.keras.datasets import imdb\n",
        "(train_data, train_labels), _ = imdb.load_data(num_words=10000)\n",
        "\n",
        "def vectorize_sequences(sequences, dimension=10000):\n",
        "    results = np.zeros((len(sequences), dimension))\n",
        "    for i, sequence in enumerate(sequences):\n",
        "        results[i, sequence] = 1.\n",
        "    return results\n",
        "train_data = vectorize_sequences(train_data)\n",
        "\n",
        "model = keras.Sequential([\n",
        "    layers.Dense(16, activation=\"relu\"),\n",
        "    layers.Dense(16, activation=\"relu\"),\n",
        "    layers.Dense(1, activation=\"sigmoid\")\n",
        "])\n",
        "model.compile(optimizer=\"rmsprop\",\n",
        "              loss=\"binary_crossentropy\",\n",
        "              metrics=[\"accuracy\"])\n",
        "history_original = model.fit(train_data, train_labels,\n",
        "                             epochs=20, batch_size=512, validation_split=0.4)"
      ]
    },
    {
      "cell_type": "markdown",
      "metadata": {
        "id": "F5QFYhDGEAMh"
      },
      "source": [
        "**Version of the model with lower capacity**"
      ]
    },
    {
      "cell_type": "code",
      "execution_count": 11,
      "metadata": {
        "id": "z8Tt9yJYEAMh",
        "outputId": "e8815e0d-9174-4a4b-e0c1-2b18c1e76777",
        "colab": {
          "base_uri": "https://localhost:8080/"
        }
      },
      "outputs": [
        {
          "output_type": "stream",
          "name": "stdout",
          "text": [
            "Epoch 1/20\n",
            "30/30 [==============================] - 3s 64ms/step - loss: 0.6213 - accuracy: 0.6718 - val_loss: 0.5605 - val_accuracy: 0.7335\n",
            "Epoch 2/20\n",
            "30/30 [==============================] - 1s 22ms/step - loss: 0.5182 - accuracy: 0.8250 - val_loss: 0.4927 - val_accuracy: 0.8502\n",
            "Epoch 3/20\n",
            "30/30 [==============================] - 1s 22ms/step - loss: 0.4407 - accuracy: 0.8851 - val_loss: 0.4282 - val_accuracy: 0.8589\n",
            "Epoch 4/20\n",
            "30/30 [==============================] - 1s 24ms/step - loss: 0.3613 - accuracy: 0.9140 - val_loss: 0.3654 - val_accuracy: 0.8861\n",
            "Epoch 5/20\n",
            "30/30 [==============================] - 1s 34ms/step - loss: 0.2955 - accuracy: 0.9267 - val_loss: 0.3256 - val_accuracy: 0.8865\n",
            "Epoch 6/20\n",
            "30/30 [==============================] - 1s 40ms/step - loss: 0.2488 - accuracy: 0.9345 - val_loss: 0.3124 - val_accuracy: 0.8812\n",
            "Epoch 7/20\n",
            "30/30 [==============================] - 1s 22ms/step - loss: 0.2155 - accuracy: 0.9423 - val_loss: 0.2878 - val_accuracy: 0.8907\n",
            "Epoch 8/20\n",
            "30/30 [==============================] - 1s 25ms/step - loss: 0.1908 - accuracy: 0.9474 - val_loss: 0.2786 - val_accuracy: 0.8923\n",
            "Epoch 9/20\n",
            "30/30 [==============================] - 1s 24ms/step - loss: 0.1705 - accuracy: 0.9539 - val_loss: 0.2756 - val_accuracy: 0.8910\n",
            "Epoch 10/20\n",
            "30/30 [==============================] - 1s 25ms/step - loss: 0.1531 - accuracy: 0.9583 - val_loss: 0.2750 - val_accuracy: 0.8900\n",
            "Epoch 11/20\n",
            "30/30 [==============================] - 1s 22ms/step - loss: 0.1381 - accuracy: 0.9623 - val_loss: 0.2899 - val_accuracy: 0.8855\n",
            "Epoch 12/20\n",
            "30/30 [==============================] - 1s 21ms/step - loss: 0.1266 - accuracy: 0.9655 - val_loss: 0.2904 - val_accuracy: 0.8850\n",
            "Epoch 13/20\n",
            "30/30 [==============================] - 1s 22ms/step - loss: 0.1148 - accuracy: 0.9701 - val_loss: 0.2889 - val_accuracy: 0.8870\n",
            "Epoch 14/20\n",
            "30/30 [==============================] - 1s 24ms/step - loss: 0.1045 - accuracy: 0.9739 - val_loss: 0.3010 - val_accuracy: 0.8831\n",
            "Epoch 15/20\n",
            "30/30 [==============================] - 1s 22ms/step - loss: 0.0955 - accuracy: 0.9775 - val_loss: 0.3082 - val_accuracy: 0.8829\n",
            "Epoch 16/20\n",
            "30/30 [==============================] - 1s 24ms/step - loss: 0.0864 - accuracy: 0.9803 - val_loss: 0.3236 - val_accuracy: 0.8803\n",
            "Epoch 17/20\n",
            "30/30 [==============================] - 1s 22ms/step - loss: 0.0792 - accuracy: 0.9817 - val_loss: 0.3322 - val_accuracy: 0.8804\n",
            "Epoch 18/20\n",
            "30/30 [==============================] - 1s 24ms/step - loss: 0.0726 - accuracy: 0.9839 - val_loss: 0.3298 - val_accuracy: 0.8815\n",
            "Epoch 19/20\n",
            "30/30 [==============================] - 1s 24ms/step - loss: 0.0661 - accuracy: 0.9857 - val_loss: 0.3405 - val_accuracy: 0.8813\n",
            "Epoch 20/20\n",
            "30/30 [==============================] - 1s 21ms/step - loss: 0.0599 - accuracy: 0.9883 - val_loss: 0.3502 - val_accuracy: 0.8818\n"
          ]
        }
      ],
      "source": [
        "model = keras.Sequential([\n",
        "    layers.Dense(4, activation=\"relu\"),\n",
        "    layers.Dense(4, activation=\"relu\"),\n",
        "    layers.Dense(1, activation=\"sigmoid\")\n",
        "])\n",
        "model.compile(optimizer=\"rmsprop\",\n",
        "              loss=\"binary_crossentropy\",\n",
        "              metrics=[\"accuracy\"])\n",
        "history_smaller_model = model.fit(\n",
        "    train_data, train_labels,\n",
        "    epochs=20, batch_size=512, validation_split=0.4)"
      ]
    },
    {
      "cell_type": "markdown",
      "metadata": {
        "id": "i01-lf9YEAMh"
      },
      "source": [
        "**Version of the model with higher capacity**"
      ]
    },
    {
      "cell_type": "code",
      "execution_count": 12,
      "metadata": {
        "id": "wnBV3RexEAMh",
        "outputId": "2f18121d-579b-4f28-c5f4-54d220e9fce6",
        "colab": {
          "base_uri": "https://localhost:8080/"
        }
      },
      "outputs": [
        {
          "output_type": "stream",
          "name": "stdout",
          "text": [
            "Epoch 1/20\n",
            "30/30 [==============================] - 3s 69ms/step - loss: 0.5744 - accuracy: 0.7050 - val_loss: 0.3808 - val_accuracy: 0.8348\n",
            "Epoch 2/20\n",
            "30/30 [==============================] - 1s 27ms/step - loss: 0.3389 - accuracy: 0.8582 - val_loss: 0.2856 - val_accuracy: 0.8858\n",
            "Epoch 3/20\n",
            "30/30 [==============================] - 1s 27ms/step - loss: 0.2302 - accuracy: 0.9107 - val_loss: 0.3509 - val_accuracy: 0.8535\n",
            "Epoch 4/20\n",
            "30/30 [==============================] - 1s 41ms/step - loss: 0.1849 - accuracy: 0.9286 - val_loss: 0.3018 - val_accuracy: 0.8826\n",
            "Epoch 5/20\n",
            "30/30 [==============================] - 1s 35ms/step - loss: 0.1457 - accuracy: 0.9449 - val_loss: 0.3126 - val_accuracy: 0.8777\n",
            "Epoch 6/20\n",
            "30/30 [==============================] - 1s 30ms/step - loss: 0.1003 - accuracy: 0.9678 - val_loss: 0.3749 - val_accuracy: 0.8686\n",
            "Epoch 7/20\n",
            "30/30 [==============================] - 1s 28ms/step - loss: 0.0738 - accuracy: 0.9758 - val_loss: 0.8263 - val_accuracy: 0.7943\n",
            "Epoch 8/20\n",
            "30/30 [==============================] - 1s 26ms/step - loss: 0.0719 - accuracy: 0.9775 - val_loss: 0.4916 - val_accuracy: 0.8316\n",
            "Epoch 9/20\n",
            "30/30 [==============================] - 1s 27ms/step - loss: 0.0214 - accuracy: 0.9959 - val_loss: 0.4377 - val_accuracy: 0.8835\n",
            "Epoch 10/20\n",
            "30/30 [==============================] - 1s 28ms/step - loss: 0.0868 - accuracy: 0.9812 - val_loss: 0.4031 - val_accuracy: 0.8827\n",
            "Epoch 11/20\n",
            "30/30 [==============================] - 1s 26ms/step - loss: 0.0063 - accuracy: 0.9995 - val_loss: 0.4805 - val_accuracy: 0.8816\n",
            "Epoch 12/20\n",
            "30/30 [==============================] - 1s 26ms/step - loss: 0.0843 - accuracy: 0.9835 - val_loss: 0.4147 - val_accuracy: 0.8814\n",
            "Epoch 13/20\n",
            "30/30 [==============================] - 1s 27ms/step - loss: 0.0039 - accuracy: 0.9999 - val_loss: 0.5047 - val_accuracy: 0.8815\n",
            "Epoch 14/20\n",
            "30/30 [==============================] - 1s 26ms/step - loss: 0.0018 - accuracy: 0.9999 - val_loss: 0.5723 - val_accuracy: 0.8826\n",
            "Epoch 15/20\n",
            "30/30 [==============================] - 1s 25ms/step - loss: 9.7886e-04 - accuracy: 1.0000 - val_loss: 0.6247 - val_accuracy: 0.8807\n",
            "Epoch 16/20\n",
            "30/30 [==============================] - 1s 26ms/step - loss: 5.7465e-04 - accuracy: 1.0000 - val_loss: 0.6603 - val_accuracy: 0.8819\n",
            "Epoch 17/20\n",
            "30/30 [==============================] - 1s 26ms/step - loss: 3.8592e-04 - accuracy: 1.0000 - val_loss: 0.6968 - val_accuracy: 0.8817\n",
            "Epoch 18/20\n",
            "30/30 [==============================] - 1s 28ms/step - loss: 2.8391e-04 - accuracy: 1.0000 - val_loss: 0.7213 - val_accuracy: 0.8813\n",
            "Epoch 19/20\n",
            "30/30 [==============================] - 1s 33ms/step - loss: 2.2991e-04 - accuracy: 1.0000 - val_loss: 0.7394 - val_accuracy: 0.8818\n",
            "Epoch 20/20\n",
            "30/30 [==============================] - 1s 41ms/step - loss: 1.8880e-04 - accuracy: 1.0000 - val_loss: 0.7525 - val_accuracy: 0.8817\n"
          ]
        }
      ],
      "source": [
        "model = keras.Sequential([\n",
        "    layers.Dense(512, activation=\"relu\"),\n",
        "    layers.Dense(512, activation=\"relu\"),\n",
        "    layers.Dense(1, activation=\"sigmoid\")\n",
        "])\n",
        "model.compile(optimizer=\"rmsprop\",\n",
        "              loss=\"binary_crossentropy\",\n",
        "              metrics=[\"accuracy\"])\n",
        "history_larger_model = model.fit(\n",
        "    train_data, train_labels,\n",
        "    epochs=20, batch_size=512, validation_split=0.4)"
      ]
    },
    {
      "cell_type": "markdown",
      "metadata": {
        "id": "zfbZ8LMFEAMh"
      },
      "source": [
        "#### Adding weight regularization"
      ]
    },
    {
      "cell_type": "markdown",
      "metadata": {
        "id": "1tBXc_tbEAMh"
      },
      "source": [
        "**Adding L2 weight regularization to the model**"
      ]
    },
    {
      "cell_type": "code",
      "execution_count": 13,
      "metadata": {
        "id": "b0nnBbfKEAMh",
        "outputId": "4583d9b3-5807-45e9-fb90-5d138d098764",
        "colab": {
          "base_uri": "https://localhost:8080/"
        }
      },
      "outputs": [
        {
          "output_type": "stream",
          "name": "stdout",
          "text": [
            "Epoch 1/20\n",
            "30/30 [==============================] - 3s 64ms/step - loss: 0.6245 - accuracy: 0.7531 - val_loss: 0.4929 - val_accuracy: 0.8511\n",
            "Epoch 2/20\n",
            "30/30 [==============================] - 1s 24ms/step - loss: 0.4054 - accuracy: 0.8926 - val_loss: 0.3892 - val_accuracy: 0.8860\n",
            "Epoch 3/20\n",
            "30/30 [==============================] - 1s 23ms/step - loss: 0.3342 - accuracy: 0.9127 - val_loss: 0.3654 - val_accuracy: 0.8916\n",
            "Epoch 4/20\n",
            "30/30 [==============================] - 1s 24ms/step - loss: 0.2958 - accuracy: 0.9258 - val_loss: 0.3574 - val_accuracy: 0.8897\n",
            "Epoch 5/20\n",
            "30/30 [==============================] - 1s 22ms/step - loss: 0.2760 - accuracy: 0.9341 - val_loss: 0.3648 - val_accuracy: 0.8868\n",
            "Epoch 6/20\n",
            "30/30 [==============================] - 1s 23ms/step - loss: 0.2592 - accuracy: 0.9402 - val_loss: 0.3760 - val_accuracy: 0.8816\n",
            "Epoch 7/20\n",
            "30/30 [==============================] - 1s 25ms/step - loss: 0.2472 - accuracy: 0.9444 - val_loss: 0.3654 - val_accuracy: 0.8867\n",
            "Epoch 8/20\n",
            "30/30 [==============================] - 1s 23ms/step - loss: 0.2399 - accuracy: 0.9480 - val_loss: 0.4019 - val_accuracy: 0.8733\n",
            "Epoch 9/20\n",
            "30/30 [==============================] - 1s 38ms/step - loss: 0.2333 - accuracy: 0.9503 - val_loss: 0.3777 - val_accuracy: 0.8828\n",
            "Epoch 10/20\n",
            "30/30 [==============================] - 1s 39ms/step - loss: 0.2259 - accuracy: 0.9528 - val_loss: 0.4084 - val_accuracy: 0.8760\n",
            "Epoch 11/20\n",
            "30/30 [==============================] - 1s 23ms/step - loss: 0.2199 - accuracy: 0.9553 - val_loss: 0.4022 - val_accuracy: 0.8759\n",
            "Epoch 12/20\n",
            "30/30 [==============================] - 1s 23ms/step - loss: 0.2198 - accuracy: 0.9547 - val_loss: 0.4102 - val_accuracy: 0.8771\n",
            "Epoch 13/20\n",
            "30/30 [==============================] - 1s 22ms/step - loss: 0.2135 - accuracy: 0.9571 - val_loss: 0.4085 - val_accuracy: 0.8766\n",
            "Epoch 14/20\n",
            "30/30 [==============================] - 1s 22ms/step - loss: 0.2099 - accuracy: 0.9585 - val_loss: 0.4087 - val_accuracy: 0.8758\n",
            "Epoch 15/20\n",
            "30/30 [==============================] - 1s 24ms/step - loss: 0.2101 - accuracy: 0.9604 - val_loss: 0.4088 - val_accuracy: 0.8772\n",
            "Epoch 16/20\n",
            "30/30 [==============================] - 1s 22ms/step - loss: 0.2022 - accuracy: 0.9634 - val_loss: 0.4162 - val_accuracy: 0.8753\n",
            "Epoch 17/20\n",
            "30/30 [==============================] - 1s 22ms/step - loss: 0.2017 - accuracy: 0.9615 - val_loss: 0.4139 - val_accuracy: 0.8759\n",
            "Epoch 18/20\n",
            "30/30 [==============================] - 1s 22ms/step - loss: 0.2018 - accuracy: 0.9603 - val_loss: 0.4529 - val_accuracy: 0.8677\n",
            "Epoch 19/20\n",
            "30/30 [==============================] - 1s 23ms/step - loss: 0.2023 - accuracy: 0.9596 - val_loss: 0.4266 - val_accuracy: 0.8754\n",
            "Epoch 20/20\n",
            "30/30 [==============================] - 1s 25ms/step - loss: 0.1965 - accuracy: 0.9643 - val_loss: 0.4722 - val_accuracy: 0.8622\n"
          ]
        }
      ],
      "source": [
        "from tensorflow.keras import regularizers\n",
        "model = keras.Sequential([\n",
        "    layers.Dense(16,\n",
        "                 kernel_regularizer=regularizers.l2(0.002),\n",
        "                 activation=\"relu\"),\n",
        "    layers.Dense(16,\n",
        "                 kernel_regularizer=regularizers.l2(0.002),\n",
        "                 activation=\"relu\"),\n",
        "    layers.Dense(1, activation=\"sigmoid\")\n",
        "])\n",
        "model.compile(optimizer=\"rmsprop\",\n",
        "              loss=\"binary_crossentropy\",\n",
        "              metrics=[\"accuracy\"])\n",
        "history_l2_reg = model.fit(\n",
        "    train_data, train_labels,\n",
        "    epochs=20, batch_size=512, validation_split=0.4)"
      ]
    },
    {
      "cell_type": "markdown",
      "metadata": {
        "id": "17NZpDlZEAMi"
      },
      "source": [
        "**Different weight regularizers available in Keras**"
      ]
    },
    {
      "cell_type": "code",
      "execution_count": 14,
      "metadata": {
        "id": "VzguWRNaEAMi",
        "outputId": "f0572304-5a36-48a7-a20d-2b4b6b55b657",
        "colab": {
          "base_uri": "https://localhost:8080/"
        }
      },
      "outputs": [
        {
          "output_type": "execute_result",
          "data": {
            "text/plain": [
              "<keras.src.regularizers.L1L2 at 0x7f2cc36ff0a0>"
            ]
          },
          "metadata": {},
          "execution_count": 14
        }
      ],
      "source": [
        "from tensorflow.keras import regularizers\n",
        "regularizers.l1(0.001)\n",
        "regularizers.l1_l2(l1=0.001, l2=0.001)"
      ]
    },
    {
      "cell_type": "markdown",
      "metadata": {
        "id": "_8eglDobEAMi"
      },
      "source": [
        "#### Adding dropout"
      ]
    },
    {
      "cell_type": "markdown",
      "metadata": {
        "id": "3cQkvCeiEAMi"
      },
      "source": [
        "**Adding dropout to the IMDB model**"
      ]
    },
    {
      "cell_type": "code",
      "execution_count": 15,
      "metadata": {
        "id": "-mMpbYpIEAMi",
        "outputId": "4b03a705-8670-4f77-915c-8f8f2b01f755",
        "colab": {
          "base_uri": "https://localhost:8080/"
        }
      },
      "outputs": [
        {
          "output_type": "stream",
          "name": "stdout",
          "text": [
            "Epoch 1/20\n",
            "30/30 [==============================] - 5s 67ms/step - loss: 0.6508 - accuracy: 0.6107 - val_loss: 0.5716 - val_accuracy: 0.8422\n",
            "Epoch 2/20\n",
            "30/30 [==============================] - 1s 21ms/step - loss: 0.5611 - accuracy: 0.7443 - val_loss: 0.4693 - val_accuracy: 0.8629\n",
            "Epoch 3/20\n",
            "30/30 [==============================] - 1s 24ms/step - loss: 0.4866 - accuracy: 0.7933 - val_loss: 0.3989 - val_accuracy: 0.8762\n",
            "Epoch 4/20\n",
            "30/30 [==============================] - 1s 22ms/step - loss: 0.4167 - accuracy: 0.8349 - val_loss: 0.3483 - val_accuracy: 0.8842\n",
            "Epoch 5/20\n",
            "30/30 [==============================] - 1s 24ms/step - loss: 0.3624 - accuracy: 0.8653 - val_loss: 0.3047 - val_accuracy: 0.8862\n",
            "Epoch 6/20\n",
            "30/30 [==============================] - 1s 22ms/step - loss: 0.3181 - accuracy: 0.8836 - val_loss: 0.2857 - val_accuracy: 0.8883\n",
            "Epoch 7/20\n",
            "30/30 [==============================] - 1s 22ms/step - loss: 0.2840 - accuracy: 0.9009 - val_loss: 0.2762 - val_accuracy: 0.8895\n",
            "Epoch 8/20\n",
            "30/30 [==============================] - 1s 23ms/step - loss: 0.2504 - accuracy: 0.9134 - val_loss: 0.2751 - val_accuracy: 0.8907\n",
            "Epoch 9/20\n",
            "30/30 [==============================] - 1s 23ms/step - loss: 0.2192 - accuracy: 0.9235 - val_loss: 0.2855 - val_accuracy: 0.8902\n",
            "Epoch 10/20\n",
            "30/30 [==============================] - 1s 26ms/step - loss: 0.2022 - accuracy: 0.9327 - val_loss: 0.2866 - val_accuracy: 0.8903\n",
            "Epoch 11/20\n",
            "30/30 [==============================] - 1s 25ms/step - loss: 0.1827 - accuracy: 0.9393 - val_loss: 0.3050 - val_accuracy: 0.8908\n",
            "Epoch 12/20\n",
            "30/30 [==============================] - 1s 22ms/step - loss: 0.1595 - accuracy: 0.9444 - val_loss: 0.3244 - val_accuracy: 0.8895\n",
            "Epoch 13/20\n",
            "30/30 [==============================] - 1s 23ms/step - loss: 0.1441 - accuracy: 0.9519 - val_loss: 0.3487 - val_accuracy: 0.8885\n",
            "Epoch 14/20\n",
            "30/30 [==============================] - 1s 30ms/step - loss: 0.1315 - accuracy: 0.9565 - val_loss: 0.3544 - val_accuracy: 0.8863\n",
            "Epoch 15/20\n",
            "30/30 [==============================] - 1s 30ms/step - loss: 0.1251 - accuracy: 0.9569 - val_loss: 0.4016 - val_accuracy: 0.8843\n",
            "Epoch 16/20\n",
            "30/30 [==============================] - 1s 30ms/step - loss: 0.1138 - accuracy: 0.9607 - val_loss: 0.4024 - val_accuracy: 0.8866\n",
            "Epoch 17/20\n",
            "30/30 [==============================] - 1s 24ms/step - loss: 0.1018 - accuracy: 0.9647 - val_loss: 0.4430 - val_accuracy: 0.8869\n",
            "Epoch 18/20\n",
            "30/30 [==============================] - 1s 24ms/step - loss: 0.1012 - accuracy: 0.9665 - val_loss: 0.4375 - val_accuracy: 0.8850\n",
            "Epoch 19/20\n",
            "30/30 [==============================] - 1s 23ms/step - loss: 0.0895 - accuracy: 0.9698 - val_loss: 0.5003 - val_accuracy: 0.8827\n",
            "Epoch 20/20\n",
            "30/30 [==============================] - 1s 21ms/step - loss: 0.0845 - accuracy: 0.9701 - val_loss: 0.5003 - val_accuracy: 0.8843\n"
          ]
        }
      ],
      "source": [
        "model = keras.Sequential([\n",
        "    layers.Dense(16, activation=\"relu\"),\n",
        "    layers.Dropout(0.5),\n",
        "    layers.Dense(16, activation=\"relu\"),\n",
        "    layers.Dropout(0.5),\n",
        "    layers.Dense(1, activation=\"sigmoid\")\n",
        "])\n",
        "model.compile(optimizer=\"rmsprop\",\n",
        "              loss=\"binary_crossentropy\",\n",
        "              metrics=[\"accuracy\"])\n",
        "history_dropout = model.fit(\n",
        "    train_data, train_labels,\n",
        "    epochs=20, batch_size=512, validation_split=0.4)"
      ]
    },
    {
      "cell_type": "markdown",
      "metadata": {
        "id": "QsEf-bcREAMi"
      },
      "source": [
        "## Summary"
      ]
    }
  ],
  "metadata": {
    "colab": {
      "name": "chapter05_fundamentals-of-ml.i",
      "provenance": [],
      "toc_visible": true,
      "gpuType": "T4"
    },
    "kernelspec": {
      "display_name": "Python 3",
      "name": "python3"
    },
    "language_info": {
      "codemirror_mode": {
        "name": "ipython",
        "version": 3
      },
      "file_extension": ".py",
      "mimetype": "text/x-python",
      "name": "python",
      "nbconvert_exporter": "python",
      "pygments_lexer": "ipython3",
      "version": "3.7.0"
    },
    "accelerator": "GPU"
  },
  "nbformat": 4,
  "nbformat_minor": 0
}